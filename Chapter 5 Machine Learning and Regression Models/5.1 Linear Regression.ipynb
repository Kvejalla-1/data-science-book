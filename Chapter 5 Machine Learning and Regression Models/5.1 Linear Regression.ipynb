{
 "cells": [
  {
   "cell_type": "markdown",
   "metadata": {},
   "source": [
    "# Chapter 5. Machine Learning and Regression Models\n",
    "\n",
    "Prediction problems are ubiquitous in real world applications. For example:\n",
    "\n",
    "- A real estate agent might want to predict the fair price of a home, using features of the home.\n",
    "- A sports bettor might want to predict which team will win the game, using information about the teams.\n",
    "- A historian might want to predict which historical figure wrote an anonymous document, using the words in the document.\n",
    "\n",
    "In each case, we have two kinds of variables:\n",
    "\n",
    "1. **features** (a.k.a. **predictors**, **inputs**, **independent variables**), such as square footage and number of bedrooms, that are used to predict...\n",
    "2. ...a **label** (a.k.a. **response**, **output**, **dependent variable**), such as house price.\n",
    "\n",
    "Mathematically, the prediction problem can be described as follows: if ${\\bf x}$ denotes the features and $y$ the label, then the goal is to come up with a function $f$ such that $ f({\\bf x})$ is \"close\" to $y$. The function $f$ is called a _prediction model_. If we have a new house, with features ${\\bf x}_{\\text{new}}$, we can use the prediction model $f$ to predict the price of this house as $f({\\bf x}_{\\text{new}})$.\n",
    "\n",
    "How do we come up a prediction model $f$ in the first place? One way is to learn it from existing data, or **training data**, consisting of observations where both the features and label are known. It is easiest to visualize this process in the case where there is only one feature, so suppose we are trying to build a model that predicts the price of a home from the square footage (`Gr Liv Area`). Each observation in the training data is a home that was sold, so both the feature (square footage) and the label (price) are known. We can represent each house by a point on a scatterplot, as shown below. \n",
    "\n",
    "To learn a prediction model $f$ from this training data, we simply fit a curve to the data. For example, one reasonable prediction model is shown in red below.\n",
    "\n",
    "![](predictive_model.png)\n",
    "\n",
    "Now, to predict the price of a 2700 square foot home using this model, we would simply evaluate $f(2700)$, which comes out to about \\\\$300,000. The prediction process is shown in blue above."
   ]
  },
  {
   "cell_type": "markdown",
   "metadata": {},
   "source": [
    "The process of learning prediction models from data is known as **machine learning**. There are many ways to learn a prediction model from data, including _linear regression_, _decision trees_, and _neural networks_. In this chapter, we will focus on two machine learning algorithms: linear regression and another called **k-nearest neighbors** that leverages the distance metrics that you learned in Chapter 4.\n",
    "\n",
    "Prediction models are divided into two types, depending on whether the label $y$ is categorical or quantitative. If the label is quantitative, then the prediction problem is a **regression** problem, and the model is called a **regressor**. If the label is categorical, then the prediction problem is a **classification** problem, and the model is called a **classifier**. Chapter 5 covers regression models, while Chapter 6 covers classification models."
   ]
  },
  {
   "cell_type": "markdown",
   "metadata": {},
   "source": [
    "# 5.1 Linear Regression\n",
    "\n",
    "_Regressors_ are prediction models for quantitative labels. In this section, we will train a machine learning model that predicts the price of a house from its square footage and other features.\n",
    "\n",
    "We will use the Ames housing data set as the training data. First, let's read in the data set."
   ]
  },
  {
   "cell_type": "code",
   "execution_count": 1,
   "metadata": {},
   "outputs": [
    {
     "data": {
      "text/html": [
       "<div>\n",
       "<style scoped>\n",
       "    .dataframe tbody tr th:only-of-type {\n",
       "        vertical-align: middle;\n",
       "    }\n",
       "\n",
       "    .dataframe tbody tr th {\n",
       "        vertical-align: top;\n",
       "    }\n",
       "\n",
       "    .dataframe thead th {\n",
       "        text-align: right;\n",
       "    }\n",
       "</style>\n",
       "<table border=\"1\" class=\"dataframe\">\n",
       "  <thead>\n",
       "    <tr style=\"text-align: right;\">\n",
       "      <th></th>\n",
       "      <th>Order</th>\n",
       "      <th>PID</th>\n",
       "      <th>MS SubClass</th>\n",
       "      <th>MS Zoning</th>\n",
       "      <th>Lot Frontage</th>\n",
       "      <th>Lot Area</th>\n",
       "      <th>Street</th>\n",
       "      <th>Alley</th>\n",
       "      <th>Lot Shape</th>\n",
       "      <th>Land Contour</th>\n",
       "      <th>...</th>\n",
       "      <th>Pool Area</th>\n",
       "      <th>Pool QC</th>\n",
       "      <th>Fence</th>\n",
       "      <th>Misc Feature</th>\n",
       "      <th>Misc Val</th>\n",
       "      <th>Mo Sold</th>\n",
       "      <th>Yr Sold</th>\n",
       "      <th>Sale Type</th>\n",
       "      <th>Sale Condition</th>\n",
       "      <th>SalePrice</th>\n",
       "    </tr>\n",
       "  </thead>\n",
       "  <tbody>\n",
       "    <tr>\n",
       "      <th>0</th>\n",
       "      <td>1</td>\n",
       "      <td>526301100</td>\n",
       "      <td>20</td>\n",
       "      <td>RL</td>\n",
       "      <td>141.0</td>\n",
       "      <td>31770</td>\n",
       "      <td>Pave</td>\n",
       "      <td>NaN</td>\n",
       "      <td>IR1</td>\n",
       "      <td>Lvl</td>\n",
       "      <td>...</td>\n",
       "      <td>0</td>\n",
       "      <td>NaN</td>\n",
       "      <td>NaN</td>\n",
       "      <td>NaN</td>\n",
       "      <td>0</td>\n",
       "      <td>5</td>\n",
       "      <td>2010</td>\n",
       "      <td>WD</td>\n",
       "      <td>Normal</td>\n",
       "      <td>215000</td>\n",
       "    </tr>\n",
       "    <tr>\n",
       "      <th>1</th>\n",
       "      <td>2</td>\n",
       "      <td>526350040</td>\n",
       "      <td>20</td>\n",
       "      <td>RH</td>\n",
       "      <td>80.0</td>\n",
       "      <td>11622</td>\n",
       "      <td>Pave</td>\n",
       "      <td>NaN</td>\n",
       "      <td>Reg</td>\n",
       "      <td>Lvl</td>\n",
       "      <td>...</td>\n",
       "      <td>0</td>\n",
       "      <td>NaN</td>\n",
       "      <td>MnPrv</td>\n",
       "      <td>NaN</td>\n",
       "      <td>0</td>\n",
       "      <td>6</td>\n",
       "      <td>2010</td>\n",
       "      <td>WD</td>\n",
       "      <td>Normal</td>\n",
       "      <td>105000</td>\n",
       "    </tr>\n",
       "    <tr>\n",
       "      <th>...</th>\n",
       "      <td>...</td>\n",
       "      <td>...</td>\n",
       "      <td>...</td>\n",
       "      <td>...</td>\n",
       "      <td>...</td>\n",
       "      <td>...</td>\n",
       "      <td>...</td>\n",
       "      <td>...</td>\n",
       "      <td>...</td>\n",
       "      <td>...</td>\n",
       "      <td>...</td>\n",
       "      <td>...</td>\n",
       "      <td>...</td>\n",
       "      <td>...</td>\n",
       "      <td>...</td>\n",
       "      <td>...</td>\n",
       "      <td>...</td>\n",
       "      <td>...</td>\n",
       "      <td>...</td>\n",
       "      <td>...</td>\n",
       "      <td>...</td>\n",
       "    </tr>\n",
       "    <tr>\n",
       "      <th>2928</th>\n",
       "      <td>2929</td>\n",
       "      <td>924100070</td>\n",
       "      <td>20</td>\n",
       "      <td>RL</td>\n",
       "      <td>77.0</td>\n",
       "      <td>10010</td>\n",
       "      <td>Pave</td>\n",
       "      <td>NaN</td>\n",
       "      <td>Reg</td>\n",
       "      <td>Lvl</td>\n",
       "      <td>...</td>\n",
       "      <td>0</td>\n",
       "      <td>NaN</td>\n",
       "      <td>NaN</td>\n",
       "      <td>NaN</td>\n",
       "      <td>0</td>\n",
       "      <td>4</td>\n",
       "      <td>2006</td>\n",
       "      <td>WD</td>\n",
       "      <td>Normal</td>\n",
       "      <td>170000</td>\n",
       "    </tr>\n",
       "    <tr>\n",
       "      <th>2929</th>\n",
       "      <td>2930</td>\n",
       "      <td>924151050</td>\n",
       "      <td>60</td>\n",
       "      <td>RL</td>\n",
       "      <td>74.0</td>\n",
       "      <td>9627</td>\n",
       "      <td>Pave</td>\n",
       "      <td>NaN</td>\n",
       "      <td>Reg</td>\n",
       "      <td>Lvl</td>\n",
       "      <td>...</td>\n",
       "      <td>0</td>\n",
       "      <td>NaN</td>\n",
       "      <td>NaN</td>\n",
       "      <td>NaN</td>\n",
       "      <td>0</td>\n",
       "      <td>11</td>\n",
       "      <td>2006</td>\n",
       "      <td>WD</td>\n",
       "      <td>Normal</td>\n",
       "      <td>188000</td>\n",
       "    </tr>\n",
       "  </tbody>\n",
       "</table>\n",
       "<p>2930 rows × 82 columns</p>\n",
       "</div>"
      ],
      "text/plain": [
       "      Order        PID  MS SubClass MS Zoning  Lot Frontage  Lot Area Street  \\\n",
       "0         1  526301100           20        RL         141.0     31770   Pave   \n",
       "1         2  526350040           20        RH          80.0     11622   Pave   \n",
       "...     ...        ...          ...       ...           ...       ...    ...   \n",
       "2928   2929  924100070           20        RL          77.0     10010   Pave   \n",
       "2929   2930  924151050           60        RL          74.0      9627   Pave   \n",
       "\n",
       "     Alley Lot Shape Land Contour  ... Pool Area Pool QC  Fence Misc Feature  \\\n",
       "0      NaN       IR1          Lvl  ...         0     NaN    NaN          NaN   \n",
       "1      NaN       Reg          Lvl  ...         0     NaN  MnPrv          NaN   \n",
       "...    ...       ...          ...  ...       ...     ...    ...          ...   \n",
       "2928   NaN       Reg          Lvl  ...         0     NaN    NaN          NaN   \n",
       "2929   NaN       Reg          Lvl  ...         0     NaN    NaN          NaN   \n",
       "\n",
       "     Misc Val Mo Sold Yr Sold Sale Type  Sale Condition  SalePrice  \n",
       "0           0       5    2010       WD           Normal     215000  \n",
       "1           0       6    2010       WD           Normal     105000  \n",
       "...       ...     ...     ...       ...             ...        ...  \n",
       "2928        0       4    2006       WD           Normal     170000  \n",
       "2929        0      11    2006       WD           Normal     188000  \n",
       "\n",
       "[2930 rows x 82 columns]"
      ]
     },
     "execution_count": 1,
     "metadata": {},
     "output_type": "execute_result"
    }
   ],
   "source": [
    "%matplotlib inline\n",
    "import numpy as np\n",
    "import pandas as pd\n",
    "pd.options.display.max_rows = 5\n",
    "\n",
    "housing_df = pd.read_csv(\"https://raw.githubusercontent.com/dlsun/data-science-book/master/data/AmesHousing.txt\", sep=\"\\t\")\n",
    "housing_df"
   ]
  },
  {
   "cell_type": "markdown",
   "metadata": {},
   "source": [
    "First, let's build a model to predict the price from just a single feature, the square footage."
   ]
  },
  {
   "cell_type": "code",
   "execution_count": 2,
   "metadata": {},
   "outputs": [
    {
     "data": {
      "text/plain": [
       "<matplotlib.axes._subplots.AxesSubplot at 0x10a6aea20>"
      ]
     },
     "execution_count": 2,
     "metadata": {},
     "output_type": "execute_result"
    },
    {
     "data": {
      "image/png": "[encoded data removed]",
      "text/plain": [
       "<matplotlib.figure.Figure at 0x119743400>"
      ]
     },
     "metadata": {},
     "output_type": "display_data"
    }
   ],
   "source": [
    "housing_df.plot.scatter(\n",
    "    x=\"Gr Liv Area\",\n",
    "    y=\"SalePrice\",\n",
    "    c=\"black\",\n",
    "    alpha=.2\n",
    ")"
   ]
  },
  {
   "cell_type": "markdown",
   "metadata": {},
   "source": [
    "Linear regression is a prediction model of the form \n",
    "\n",
    "$$ f(x) = \\text{intercept} + \\text{slope} \\cdot x. $$\n",
    "\n",
    "The **slope** (also called the **coefficient** in data science) and the **intercept** are parameters of the model that have to be learned from data. We will choose the slope and the intercept to minimize the sum of $(y - f(x))^2$, the squared distance between the label and the prediction, over the observations in the training data."
   ]
  },
  {
   "cell_type": "markdown",
   "metadata": {},
   "source": [
    "# Implementing Linear Regression from Scratch\n",
    "\n",
    "There are simple formulas for the optimal slope and the intercept when there is one feature in the linear regression model:\n",
    "\n",
    "\\begin{align}\n",
    "\\widehat{\\text{slope}} &= \\frac{\\text{covariance between $x$ and $y$}}{\\text{variance of $x$}} \\\\\n",
    "\\widehat{\\text{intercept}} &= \\text{mean of $y$} - \\widehat{\\text{slope}} \\cdot \\text{mean of $x$} \n",
    "\\end{align}\n",
    "\n",
    "The \"hats\", i.e., $\\widehat{\\phantom{S}}$, above the slope and the intercept, indicate that they were estimated from the training data.\n",
    "\n",
    "Let's calculate the estimated slope and the intercept for predicting house prices from square footage."
   ]
  },
  {
   "cell_type": "code",
   "execution_count": 3,
   "metadata": {},
   "outputs": [
    {
     "data": {
      "text/plain": [
       "(111.69400085780025, 13289.634364759724)"
      ]
     },
     "execution_count": 3,
     "metadata": {},
     "output_type": "execute_result"
    }
   ],
   "source": [
    "# Rename the variables to x_train and y_train.\n",
    "x_train = housing_df[\"Gr Liv Area\"]\n",
    "y_train = housing_df[\"SalePrice\"]\n",
    "\n",
    "# Implement the formulas for the slope and intercept from above.\n",
    "# (The trailing underscores play the role of the hats in the formulas.)\n",
    "slope_ = x_train.cov(y_train) / x_train.var()\n",
    "intercept_ = y_train.mean() - slope_ * x_train.mean()\n",
    "slope_, intercept_"
   ]
  },
  {
   "cell_type": "markdown",
   "metadata": {},
   "source": [
    "Therefore, the linear regression model is \n",
    "\n",
    "$$ f(\\text{square footage}) = 13289.63 + 111.694 \\cdot \\text{square footage}. $$\n",
    "\n",
    "Let's use this model to make some predictions:\n",
    "\n",
    "- A $2700$ square foot house is predicted to cost\n",
    "$$ 13289.63 + 111.694 \\cdot 2700 = \\$314863.43 $$\n",
    "- A $1500$ square foot house is predicted to cost \n",
    "$$ 13289.63 + 111.694 \\cdot 1500 = \\$180830.63 $$\n",
    "\n",
    "The model will even let you make predictions that make no sense:\n",
    "\n",
    "- A $-100$ square foot house is predicted to cost\n",
    "$$ 13289.63 + 111.694 \\cdot (-100) = \\$2120.23. $$\n",
    "\n",
    "It is your responsibility as a data scientist to use the model responsibly---only in situations where it makes sense.\n",
    "\n",
    "To add the regression model as a line to our scatterplot, we create a grid of feature values $x_{\\text{new}}$ and predict the label at each of these feature values."
   ]
  },
  {
   "cell_type": "code",
   "execution_count": 4,
   "metadata": {},
   "outputs": [
    {
     "data": {
      "text/plain": [
       "<matplotlib.axes._subplots.AxesSubplot at 0x11cfd1a20>"
      ]
     },
     "execution_count": 4,
     "metadata": {},
     "output_type": "execute_result"
    },
    {
     "data": {
      "image/png": "[encoded data removed]",
      "text/plain": [
       "<matplotlib.figure.Figure at 0x11cfb51d0>"
      ]
     },
     "metadata": {},
     "output_type": "display_data"
    }
   ],
   "source": [
    "housing_df.plot.scatter(\n",
    "    x=\"Gr Liv Area\", y=\"SalePrice\",\n",
    "    c=\"black\", alpha=.2\n",
    ")\n",
    "\n",
    "# First, create a grid of sqft values.\n",
    "# We will store this in a pandas Series for easy plotting.\n",
    "x_new = pd.Series(\n",
    "    data=np.arange(0, 6000, step=100),\n",
    "    index=np.arange(0, 6000, step=100)\n",
    ")\n",
    "\n",
    "# Calculate the predicted y-values. \n",
    "# (The trailing underscore in y_new_ emphasizes that these are predicted values.)\n",
    "y_new_ = intercept_ + slope_ * x_new\n",
    "\n",
    "# Since y_new_ is a Series indexed by the x-values, .plot.line() works.\n",
    "y_new_.plot.line(color=\"red\")"
   ]
  },
  {
   "cell_type": "markdown",
   "metadata": {},
   "source": [
    "# Linear Regression in _scikit-learn_\n",
    "\n",
    "Now we will implement the same model using [_scikit-learn_](http://scikit-learn.org/), a Python library that unifies machine learning models under a common interface. All machine learning models are trained and used in the exact same way:\n",
    "\n",
    "1. Declare the model.\n",
    "2. Fit the model to training data, consisting of both features $X$ and labels $y$.\n",
    "3. Use the model to predict the labels for new values of the features."
   ]
  },
  {
   "cell_type": "code",
   "execution_count": 5,
   "metadata": {},
   "outputs": [
    {
     "data": {
      "text/plain": [
       "<matplotlib.axes._subplots.AxesSubplot at 0x11d492668>"
      ]
     },
     "execution_count": 5,
     "metadata": {},
     "output_type": "execute_result"
    },
    {
     "data": {
      "image/png": "[encoded data removed]",
      "text/plain": [
       "<matplotlib.figure.Figure at 0x10a6dd9b0>"
      ]
     },
     "metadata": {},
     "output_type": "display_data"
    }
   ],
   "source": [
    "housing_df.plot.scatter(\n",
    "    x=\"Gr Liv Area\", y=\"SalePrice\",\n",
    "    c=\"black\", alpha=.2\n",
    ")\n",
    "\n",
    "from sklearn.linear_model import LinearRegression\n",
    "\n",
    "# Step 1: Declare the model.\n",
    "model = LinearRegression()\n",
    "\n",
    "# Step 2: Fit the model to training data.\n",
    "# This step determines the optimal slope and intercept.\n",
    "X_train = x_train.to_frame() # x_train needs to be a DataFrame, as explained below\n",
    "model.fit(X_train, y_train)\n",
    "\n",
    "# Step 3: Use the model to predict for new observations.\n",
    "X_new = x_new.to_frame() # x_new also needs to be a DataFrame, as explained below\n",
    "y_new_ = model.predict(X_new)\n",
    "\n",
    "# scikit-learn always returns numpy arrays. We will\n",
    "# turn it into a Series for easy plotting.\n",
    "pd.Series(index=x_new, data=y_new_).plot.line(color=\"red\")"
   ]
  },
  {
   "cell_type": "markdown",
   "metadata": {},
   "source": [
    "Note that _scikit-learn_ required the features to be supplied in the form of a two-dimensional array (or `DataFrame`), since in general, there may be multiple observations (rows) and multiple features (columns). In the model above, we only had one feature (square footage), so we simply stored the observations in a one-dimensional array (a `Series`). We had to convert this to a `DataFrame` before passing it to _scikit-learn_.\n",
    "\n",
    "Did you notice how we did not need the slope and intercept to plot the regression line? All we needed were the predictions from the model. But the slope and intercept are stored in the model object, in case you need them. To access them, use the `.coef_` and `.intercept_` attributes, respectively. (Notice how _scikit-learn_ uses the underscore convention for attributes that are estimated from the data.)"
   ]
  },
  {
   "cell_type": "code",
   "execution_count": 6,
   "metadata": {},
   "outputs": [
    {
     "data": {
      "text/plain": [
       "(array([111.69400086]), 13289.63436475952)"
      ]
     },
     "execution_count": 6,
     "metadata": {},
     "output_type": "execute_result"
    }
   ],
   "source": [
    "model.coef_, model.intercept_"
   ]
  },
  {
   "cell_type": "markdown",
   "metadata": {},
   "source": [
    "The `.coef_` attribute is an array, instead of a single number, in anticipation of situations where there is more than one feature---and hence, more than one coefficient."
   ]
  },
  {
   "cell_type": "markdown",
   "metadata": {},
   "source": [
    "For the simple linear regression model above, _scikit-learn_ was hardly necessary, since the code was no simpler than implementing the formulas ourselves. However, _scikit-learn_ proves its worth as soon as we start fitting more complicated models.\n",
    "\n",
    "For example, linear regression generalizes to more features. Suppose we have $d$ features $x_1, x_2, ..., x_d$. Then the linear regression model is \n",
    "\n",
    "$$ f({\\bf x}) = \\text{intercept} + \\text{coef}_1 \\cdot x_1 + \\text{coef}_2 \\cdot x_2 + ... + \\text{coef}_d \\cdot x_d. $$\n",
    "\n",
    "The idea is the same: we choose the intercept and the coefficients to minimize the sum of squared distances $(y - f({\\bf x}))^2$ between the labels and the predictions on the training data. Unfortunately, the formula for the optimal intercept and coefficients is no longer simple and requires an understanding of linear algebra, which is beyond the scope of this book. Nevertheless, _scikit-learn_ can fit the model for us.\n",
    "\n",
    "Suppose we want to predict the price of a home using several features, including categorical variables, like `Neighborhood` and `Bldg Type`."
   ]
  },
  {
   "cell_type": "code",
   "execution_count": 7,
   "metadata": {},
   "outputs": [],
   "source": [
    "features = [\"Lot Area\", \"Gr Liv Area\",\n",
    "            \"Full Bath\", \"Half Bath\", \"Bedroom AbvGr\",\n",
    "            \"Year Built\", \"Yr Sold\",\n",
    "            \"Neighborhood\", \"Bldg Type\"]"
   ]
  },
  {
   "cell_type": "markdown",
   "metadata": {},
   "source": [
    "The first step is to encode the categorical variables as quantitative variables. One way to do this is to use `pd.get_dummies()`, but we can also do it in _scikit-learn_ using `OneHotEncoder`:"
   ]
  },
  {
   "cell_type": "code",
   "execution_count": 8,
   "metadata": {},
   "outputs": [
    {
     "data": {
      "text/plain": [
       "<2930x40 sparse matrix of type '<class 'numpy.float64'>'\n",
       "\twith 24507 stored elements in Compressed Sparse Row format>"
      ]
     },
     "execution_count": 8,
     "metadata": {},
     "output_type": "execute_result"
    }
   ],
   "source": [
    "from sklearn.compose import make_column_transformer\n",
    "from sklearn.preprocessing import OneHotEncoder\n",
    "\n",
    "# Preprocessing: Dummy encode categorical variables.\n",
    "encoder = make_column_transformer(\n",
    "    (OneHotEncoder(), [\"Neighborhood\", \"Bldg Type\"]),\n",
    "    remainder=\"passthrough\"\n",
    ")\n",
    "encoder.fit(housing_df[features])\n",
    "\n",
    "X_train = encoder.transform(housing_df[features])\n",
    "y_train = housing_df[\"SalePrice\"]\n",
    "\n",
    "X_train"
   ]
  },
  {
   "cell_type": "markdown",
   "metadata": {},
   "source": [
    "Now the features are ready to be passed to _scikit-learn_."
   ]
  },
  {
   "cell_type": "code",
   "execution_count": 9,
   "metadata": {},
   "outputs": [
    {
     "data": {
      "text/plain": [
       "LinearRegression(copy_X=True, fit_intercept=True, n_jobs=None,\n",
       "         normalize=False)"
      ]
     },
     "execution_count": 9,
     "metadata": {},
     "output_type": "execute_result"
    }
   ],
   "source": [
    "# Step 1: Declare the model.\n",
    "model = LinearRegression()\n",
    "\n",
    "# Step 2: Fit the model to training data.\n",
    "model.fit(X_train, y_train)"
   ]
  },
  {
   "cell_type": "markdown",
   "metadata": {},
   "source": [
    "It is much harder to visualize a prediction model in 34-dimensions, but we can still make predictions using it."
   ]
  },
  {
   "cell_type": "code",
   "execution_count": 10,
   "metadata": {},
   "outputs": [
    {
     "data": {
      "text/plain": [
       "array([159911.92941284])"
      ]
     },
     "execution_count": 10,
     "metadata": {},
     "output_type": "execute_result"
    }
   ],
   "source": [
    "# Step 3: Use the model to make predictions for new observations.\n",
    "new_df = pd.DataFrame(\n",
    "    columns=features,\n",
    "    data=[\n",
    "        {\"Lot Area\": 9000,\n",
    "         \"Gr Liv Area\": 1400,\n",
    "         \"Full Bath\": 2,\n",
    "         \"Half Bath\": 1,\n",
    "         \"Bedroom AbvGr\": 3,\n",
    "         \"Year Built\": 1980,\n",
    "         \"Yr Sold\": 2011,\n",
    "         \"Neighborhood\": \"OldTown\",\n",
    "         \"Bldg Type\": \"1Fam\"}\n",
    "    ]\n",
    ")\n",
    "\n",
    "# We need to transform this new data.\n",
    "X_new = encoder.transform(new_df)\n",
    "\n",
    "# Now it's ready for model.predict()\n",
    "model.predict(X_new)"
   ]
  },
  {
   "cell_type": "markdown",
   "metadata": {},
   "source": [
    "Note that `model.predict` expects the features to be formatted exactly as they were formatted in `model.fit`.\n",
    "\n",
    "We could also reconstruct the predictions from the coefficients and the intercept."
   ]
  },
  {
   "cell_type": "code",
   "execution_count": 11,
   "metadata": {},
   "outputs": [
    {
     "data": {
      "text/plain": [
       "(array([ 5.26457720e+02,  6.56310521e+03,  3.56411556e+02, -2.21103152e+04,\n",
       "        -1.64194429e+04, -1.73735174e+04,  1.38283713e+04, -3.78946622e+04,\n",
       "        -3.58275461e+04,  4.43383551e+04,  9.26553630e+04, -3.70302393e+04,\n",
       "         3.75067895e+03, -1.50860240e+04, -2.78159704e+04, -2.42021247e+04,\n",
       "         9.49544305e+03, -2.53725779e+04,  3.54556557e+04,  6.54002629e+04,\n",
       "        -2.79523308e+04, -3.11107168e+04, -2.59918270e+04, -2.89140066e+04,\n",
       "         8.15558287e+03,  7.38093980e+04,  5.02721833e+03,  1.27251484e+04,\n",
       "         2.85426302e+04,  1.48259717e+04, -2.78286053e+03, -3.15916038e+04,\n",
       "        -1.00079866e+04,  5.39297723e-01,  8.87378243e+01, -9.18868829e+01,\n",
       "        -7.87974983e+03, -1.29795625e+04,  8.22417931e+02, -8.61236378e+02]),\n",
       " 180796.0600682594)"
      ]
     },
     "execution_count": 11,
     "metadata": {},
     "output_type": "execute_result"
    }
   ],
   "source": [
    "model.coef_, model.intercept_"
   ]
  },
  {
   "cell_type": "code",
   "execution_count": 12,
   "metadata": {},
   "outputs": [
    {
     "data": {
      "text/plain": [
       "array([159911.92941284])"
      ]
     },
     "execution_count": 12,
     "metadata": {},
     "output_type": "execute_result"
    }
   ],
   "source": [
    "model.intercept_ + X_new * model.coef_"
   ]
  },
  {
   "cell_type": "markdown",
   "metadata": {},
   "source": [
    "# Communication Corner\n",
    "\n",
    "One of the advantages of the linear regression model is that it is interpretable. All of its parameters have a natural interpretation in the context of the application.\n",
    "\n",
    "- The intercept is the predicted label when all of the features are equal to zero. This may or may not be useful, depending on whether zero is a possible value for the features. In the example above, our model would predict a house with 0 square feet, 0 bedrooms, 0 bathrooms, etc. to cost \\\\$180,796.06, but this prediction is not meaningful, since it is impossible to have a house that is 0 square feet.\n",
    "- Each coefficient represents the _change_ in the predicted label when the corresponding feature is increased by $1$, holding all other features constant. "
   ]
  },
  {
   "cell_type": "markdown",
   "metadata": {},
   "source": [
    "# Exercises"
   ]
  },
  {
   "cell_type": "markdown",
   "metadata": {},
   "source": [
    "**Exercise 1.** You would like to predict how much a male diner will tip on a bill of \\\\$40.00 on a Sunday. Build a linear regression model to answer this question, using the tips dataset (`https://raw.githubusercontent.com/dlsun/data-science-book/master/data/tips.csv`) as your training data."
   ]
  },
  {
   "cell_type": "code",
   "execution_count": 13,
   "metadata": {},
   "outputs": [],
   "source": [
    "# TYPE YOUR CODE HERE"
   ]
  },
  {
   "cell_type": "markdown",
   "metadata": {},
   "source": [
    "**Exercise 2.** Suppose you standardize the variables before fitting the linear regression. Does the estimated intercept change? Do the estimated coefficients change? Do the predicted labels change?"
   ]
  },
  {
   "cell_type": "code",
   "execution_count": 14,
   "metadata": {},
   "outputs": [],
   "source": [
    "# TYPE YOUR CODE HERE"
   ]
  }
 ],
 "metadata": {
  "kernelspec": {
   "display_name": "Python 3",
   "language": "python",
   "name": "python3"
  },
  "language_info": {
   "codemirror_mode": {
    "name": "ipython",
    "version": 3
   },
   "file_extension": ".py",
   "mimetype": "text/x-python",
   "name": "python",
   "nbconvert_exporter": "python",
   "pygments_lexer": "ipython3",
   "version": "3.6.8"
  }
 },
 "nbformat": 4,
 "nbformat_minor": 2
}
