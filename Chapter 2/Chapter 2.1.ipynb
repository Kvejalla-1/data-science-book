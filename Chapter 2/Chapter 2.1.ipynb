{
 "cells": [
  {
   "cell_type": "markdown",
   "metadata": {},
   "source": [
    "# Chapter 2. Analyzing Subgroups\n",
    "\n",
    "# 2.1 Slicing and Dicing Data\n",
    "\n",
    "In the previous chapter, we looked at ways to summarize and visualize _all_ the values of a variable, like age. But what if we only wanted to know the age distribution of just the male passengers on the Titanic? To answer such questions, we have to **slice** our data. That is, we have to filter the `DataFrame` to include only those rows where a variable (e.g., `sex`) is equal to a particular value (e.g., `\"male\"`). \n",
    "\n",
    "The term _slicing_ makes sense if you imagine the data as a cube, with a different variable along each dimension. Slicing this cube along any one dimension will return a subset of the original data, corresponding to a particular value of that variable.\n",
    "\n",
    "<img src=\"slice1.gif\" width=\"300\"> <img src=\"slice2.gif\" width=\"300\"> ([source](http://www.hypertextbookshop.com/dataminingbook/public_version/contents/chapters/chapter003/section004/blue/page004.html))"
   ]
  },
  {
   "cell_type": "code",
   "execution_count": null,
   "metadata": {},
   "outputs": [],
   "source": [
    "%matplotlib inline\n",
    "\n",
    "import pandas as pd\n",
    "pd.options.display.max_rows = 5\n",
    "df = pd.read_csv(\"/data301/data/titanic.csv\")\n",
    "df"
   ]
  },
  {
   "cell_type": "markdown",
   "metadata": {},
   "source": [
    "## Two Ways to Slice a DataFrame\n",
    "\n",
    "One way to slice a `pandas` `DataFrame` is to set the slicing variable as the index and then to select the value you want using `.loc`.\n",
    "\n",
    "So for example, if we wanted a `DataFrame` with just the male passengers, we could do:"
   ]
  },
  {
   "cell_type": "code",
   "execution_count": null,
   "metadata": {},
   "outputs": [],
   "source": [
    "males = df.set_index(\"sex\").loc[\"male\"]\n",
    "males"
   ]
  },
  {
   "cell_type": "code",
   "execution_count": null,
   "metadata": {},
   "outputs": [],
   "source": [
    "males.age.plot.hist()"
   ]
  },
  {
   "cell_type": "markdown",
   "metadata": {},
   "source": [
    "Another way to slice a `DataFrame` is to use a **boolean mask**. A boolean mask is simply a boolean `Series` whose index matches the index of the `DataFrame`.\n",
    "\n",
    "To create a boolean mask, we can use the standard comparison operators `==`, `<`, `>`, and `!=` on any column in the `DataFrame`. For example, the following code produces a boolean mask that is equal to `True` for the male passengers and equal to False otherwise."
   ]
  },
  {
   "cell_type": "code",
   "execution_count": null,
   "metadata": {},
   "outputs": [],
   "source": [
    "df.sex == \"male\""
   ]
  },
  {
   "cell_type": "markdown",
   "metadata": {},
   "source": [
    "Notice how the equality operator was automatically _broadcast_ over the elements of the `Series` `df.sex`. That is, we check whether each element of `df.sex` is equal to `\"male\"`, resulting in a `Series` of booleans.\n",
    "\n",
    "This boolean mask can then be passed into a `DataFrame` to obtain just the subset of rows where the mask equals `True`."
   ]
  },
  {
   "cell_type": "code",
   "execution_count": null,
   "metadata": {},
   "outputs": [],
   "source": [
    "df[df.sex == \"male\"]"
   ]
  },
  {
   "cell_type": "markdown",
   "metadata": {},
   "source": [
    "Notice how the index is missing the numbers 0 and 2 because those passengers were female. We are left with a `DataFrame` where the variable `sex` only takes on one value, `\"male\"`.\n",
    "\n",
    "Now we can select the age column from this `DataFrame` and plot the distribution, as we did before."
   ]
  },
  {
   "cell_type": "code",
   "execution_count": null,
   "metadata": {},
   "outputs": [],
   "source": [
    "df[df.sex == \"male\"].age.plot.hist()"
   ]
  },
  {
   "cell_type": "markdown",
   "metadata": {},
   "source": [
    "A boolean mask is a kind of selector, but it is quite different from the label-based (`.loc`) and position-based (`.iloc`) selection that we encountered before. Passing a boolean mask to `.loc` is equivalent to passing the boolean mask directly to the `DataFrame`:"
   ]
  },
  {
   "cell_type": "code",
   "execution_count": null,
   "metadata": {},
   "outputs": [],
   "source": [
    "df.loc[df.sex == \"male\"]"
   ]
  },
  {
   "cell_type": "markdown",
   "metadata": {},
   "source": [
    "We might prefer to pass the boolean mask to `.loc` if we also wanted to select columns at the same time. For example, if we wanted to select the ages of the male passengers, we would do:"
   ]
  },
  {
   "cell_type": "code",
   "execution_count": null,
   "metadata": {},
   "outputs": [],
   "source": [
    "df.loc[df.sex == \"male\", \"age\"]"
   ]
  },
  {
   "cell_type": "markdown",
   "metadata": {},
   "source": [
    "### Speed Comparison\n",
    "\n",
    "We've seen two ways to slice a `DataFrame`. Which way is better?\n",
    "\n",
    "One consideration is that the first method forces you to set the index of your `DataFrame` to the variable you want to slice by. If your `DataFrame` already has a natural index, you might not want to replace that index just to slice the data.\n",
    "\n",
    "Another consideration is speed. Let's test the runtimes of the two options by using the `%timeit` magic. (**Warning:** The cell below will take a while to run, since `timeit` will run each command multiple times and then report the mean and standard deviation of the runtimes.)"
   ]
  },
  {
   "cell_type": "code",
   "execution_count": null,
   "metadata": {},
   "outputs": [],
   "source": [
    "%timeit df.set_index(\"sex\").loc[\"male\"].age.mean()\n",
    "%timeit df[df.sex == \"male\"].age.mean()"
   ]
  },
  {
   "cell_type": "markdown",
   "metadata": {},
   "source": [
    "So boolean masking is also significantly faster than re-indexing and selecting. Taking all considerations into account, boolean masking is generally the best way to slice your data."
   ]
  },
  {
   "cell_type": "markdown",
   "metadata": {},
   "source": [
    "### Working with Boolean Series\n",
    "\n",
    "Remember that a boolean mask is a `Series` of booleans. A boolean `Series` can be regarded as a categorical variable, but it can also be treated as a quantitative variable, where the `True`s are 1s and the `False`s are 0s. For example, the following command actually produces a `Series` of 7s and 8s."
   ]
  },
  {
   "cell_type": "code",
   "execution_count": null,
   "metadata": {},
   "outputs": [],
   "source": [
    "(df.sex == \"male\") + 7"
   ]
  },
  {
   "cell_type": "markdown",
   "metadata": {},
   "source": [
    "For a more realistic example of how we might use a boolean `Series` as a quantitative variable, recall how we coded binary categorical variables as 0s and 1s. This allowed us to use functions like `.sum()` and `.mean()`, that are for quantitative variables, to learn about the categorical variable, such as the _number_ of observations in category 1 and the _proportion_ of observations in category 1. (Remember that a _proportion_ is just a percentage, expressed as a number between 0 and 1.)\n",
    "\n",
    "Boolean `Series` are also variables containing just 0s and 1s, where a 1 represents `True`. So the command"
   ]
  },
  {
   "cell_type": "code",
   "execution_count": null,
   "metadata": {},
   "outputs": [],
   "source": [
    "(df.sex == \"male\").sum()"
   ]
  },
  {
   "cell_type": "markdown",
   "metadata": {},
   "source": [
    "returns the _number_ of observations where `sex == \"male\"` and"
   ]
  },
  {
   "cell_type": "code",
   "execution_count": null,
   "metadata": {},
   "outputs": [],
   "source": [
    "(df.sex == \"male\").mean()"
   ]
  },
  {
   "cell_type": "markdown",
   "metadata": {},
   "source": [
    "returns the _proportion_ of observations where `sex == \"male\"`. Check that these answers are correct by some other method."
   ]
  },
  {
   "cell_type": "markdown",
   "metadata": {},
   "source": [
    "## Dicing\n",
    "\n",
    "<img src=\"dice.jpeg\">\n",
    "\n",
    "Dicing is a generalization of slicing. With slicing, we select a single value of a single variable. With dicing, we are allowed to select multiple values of multiple variables. Dicing allows us to answer questions like, \"What was the age distribution of male _survivors_ on the Titanic?\" To answer this question, we have to filter our data set on two variables, `sex` and `survived`.\n",
    "\n",
    "We can dice a `pandas` `DataFrame` using a boolean mask, as before. The only difference is in how we obtain that boolean mask. We want a boolean mask that is `True` if `sex` is `\"male\"` _and_ `survived` is `1`. Let's start by creating a separate boolean mask for each of these variables."
   ]
  },
  {
   "cell_type": "code",
   "execution_count": null,
   "metadata": {},
   "outputs": [],
   "source": [
    "df.sex == \"male\""
   ]
  },
  {
   "cell_type": "code",
   "execution_count": null,
   "metadata": {},
   "outputs": [],
   "source": [
    "df.survived == 1"
   ]
  },
  {
   "cell_type": "markdown",
   "metadata": {},
   "source": [
    "We want to combine these two boolean masks into a single mask that is `True` only if the corresponding elements of _both_ masks are `True`. This can be accomplished by joining the two `Series` by the logical operator `&`."
   ]
  },
  {
   "cell_type": "code",
   "execution_count": null,
   "metadata": {},
   "outputs": [],
   "source": [
    "(df.sex == \"male\") & (df.survived == 1)"
   ]
  },
  {
   "cell_type": "markdown",
   "metadata": {},
   "source": [
    "Verify for yourself that the `True` values in this `Series` correspond to observations where _both_ masks were True."
   ]
  },
  {
   "cell_type": "markdown",
   "metadata": {},
   "source": [
    "_Warning:_ Notice how we included parentheses around each boolean mask above. These parentheses turn out to be necessary because of Python's operator precedence. The command\n",
    "\n",
    "`df.sex == \"male\" & df.survived == 1`\n",
    "\n",
    "will be interpreted by Python as \n",
    "\n",
    "`df.sex == (\"male\" & df.survived) == 1`\n",
    "\n",
    "and result in an error. Python does not know how to evaluate `(\"male\" & df.survived)`, since the logical operator `&` is not defined for a string and a `Series`. Parentheses ensure that Python evaluates the boolean masks first and then the logical operator:\n",
    "\n",
    "`(df.sex == \"male\") & (df.survived == 1)`.\n",
    "\n",
    "Forgetting the parentheses around boolean masks is a common error. To make matters worse, the error message that you get is not very helpful for diagnosing the problem. If you don't believe me, just try running the offending command above!"
   ]
  },
  {
   "cell_type": "markdown",
   "metadata": {},
   "source": [
    "Now that we have the correct boolean mask for the dicing operation, we can plot the age distribution of the male survivors."
   ]
  },
  {
   "cell_type": "code",
   "execution_count": null,
   "metadata": {},
   "outputs": [],
   "source": [
    "df[(df.sex == \"male\") & (df.survived == 1)].age.plot.hist()"
   ]
  },
  {
   "cell_type": "markdown",
   "metadata": {},
   "source": [
    "Notice the peak between 0 and 10. A disproportionate number of young children survived because they were given priority.\n",
    "\n",
    "So far, we have worked exclusively with the `&` operator. But there are actually three logical operators that can be used to modify and combine boolean masks:\n",
    "\n",
    "- `&` means \"and\"\n",
    "- `|` means \"or\"\n",
    "- `~` means \"not\"\n",
    "\n",
    "Like `&`, `|` and `~` operate elementwise on boolean `Series`. Examples are provided below."
   ]
  },
  {
   "cell_type": "code",
   "execution_count": null,
   "metadata": {},
   "outputs": [],
   "source": [
    "# male OR survived\n",
    "(df.sex == \"male\") | (df.survived == 1)"
   ]
  },
  {
   "cell_type": "code",
   "execution_count": null,
   "metadata": {},
   "outputs": [],
   "source": [
    "# equivalent to (df.sex != \"male\")\n",
    "~(df.sex == \"male\")"
   ]
  },
  {
   "cell_type": "markdown",
   "metadata": {},
   "source": [
    "Notice how we use parentheses to ensure that the boolean mask is evaluated before the logical operators."
   ]
  },
  {
   "cell_type": "markdown",
   "metadata": {},
   "source": [
    "# Exercises\n",
    "\n",
    "Exercises 1-3 deal with the Titanic data set."
   ]
  },
  {
   "cell_type": "markdown",
   "metadata": {},
   "source": [
    "**Exercise 1.** Is there any advantage to selecting the column at the same time you apply the boolean mask? In other words, is the second option below any faster than the first?\n",
    "\n",
    "1. `df[df.sex == \"female\"].age`\n",
    "2. `df.loc[df.sex == \"female\", \"age\"]`\n",
    "\n",
    "Use the `%timeit` magic to compare the runtimes of these two options."
   ]
  },
  {
   "cell_type": "code",
   "execution_count": null,
   "metadata": {},
   "outputs": [],
   "source": [
    "# YOUR CODE HERE"
   ]
  },
  {
   "cell_type": "markdown",
   "metadata": {},
   "source": [
    "**Exercise 2.** Make a single graphic that compares the age distribution of the males who survived with the age distribution of the males who did not."
   ]
  },
  {
   "cell_type": "code",
   "execution_count": null,
   "metadata": {},
   "outputs": [],
   "source": [
    "# YOUR CODE HERE"
   ]
  },
  {
   "cell_type": "markdown",
   "metadata": {},
   "source": [
    "**Exercise 3.** What percentage of 1st class passengers survived? What percentage of 3rd class passengers survived?"
   ]
  },
  {
   "cell_type": "code",
   "execution_count": null,
   "metadata": {},
   "outputs": [],
   "source": [
    "# YOUR CODE HERE"
   ]
  },
  {
   "cell_type": "markdown",
   "metadata": {},
   "source": [
    "Exercises 4-7 work with the Tips data set (`/data301/data/tips.csv`). The following code reads the data into a `DataFrame` called `tips` and creates a new column called `tip_percent` out of the `tip` and `total_bill` columns. This new column represents the tip as a percentage of the total bill (as a number between 0 and 1)."
   ]
  },
  {
   "cell_type": "code",
   "execution_count": null,
   "metadata": {},
   "outputs": [],
   "source": [
    "tips = pd.read_csv(\"/data301/data/tips.csv\")\n",
    "tips[\"tip_percent\"] = tips.tip / tips.total_bill\n",
    "tips"
   ]
  },
  {
   "cell_type": "markdown",
   "metadata": {},
   "source": [
    "**Exercise 4.** Calculate the average tip percentage paid by parties of 4 or more."
   ]
  },
  {
   "cell_type": "code",
   "execution_count": null,
   "metadata": {},
   "outputs": [],
   "source": [
    "# YOUR CODE HERE"
   ]
  },
  {
   "cell_type": "markdown",
   "metadata": {},
   "source": [
    "**Exercise 5.** Make a visualization comparing the distribution of tip percentages left by males and females. How do they compare?"
   ]
  },
  {
   "cell_type": "code",
   "execution_count": null,
   "metadata": {},
   "outputs": [],
   "source": [
    "# YOUR CODE HERE"
   ]
  },
  {
   "cell_type": "markdown",
   "metadata": {},
   "source": [
    "**Exercise 6.** What is the average table size on weekdays? (_Hint:_ There are at least two ways to create the appropriate boolean mask: using the `|` logical operator and using the `.isin()` method. See if you can do it both ways.)"
   ]
  },
  {
   "cell_type": "code",
   "execution_count": null,
   "metadata": {},
   "outputs": [],
   "source": [
    "# YOUR CODE HERE"
   ]
  },
  {
   "cell_type": "markdown",
   "metadata": {},
   "source": [
    "**Exercise 7.** Calculate the average table size for each day of the week. On which day of the week does the waiter serve the largest parties, on average?"
   ]
  },
  {
   "cell_type": "code",
   "execution_count": null,
   "metadata": {},
   "outputs": [],
   "source": [
    "# YOUR CODE HERE"
   ]
  }
 ],
 "metadata": {
  "kernelspec": {
   "display_name": "Python 3",
   "language": "python",
   "name": "python3"
  },
  "language_info": {
   "codemirror_mode": {
    "name": "ipython",
    "version": 3
   },
   "file_extension": ".py",
   "mimetype": "text/x-python",
   "name": "python",
   "nbconvert_exporter": "python",
   "pygments_lexer": "ipython3",
   "version": "3.6.5"
  }
 },
 "nbformat": 4,
 "nbformat_minor": 2
}
