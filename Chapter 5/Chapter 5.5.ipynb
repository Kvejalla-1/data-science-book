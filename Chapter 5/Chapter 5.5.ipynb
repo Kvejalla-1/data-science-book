{
 "cells": [
  {
   "cell_type": "markdown",
   "metadata": {},
   "source": [
    "# Chapter 5.5 Tuning Hyperparameters\n",
    "\n",
    "So far in this chapter, we have brushed aside an important question: how do we choose $k$ in $k$-nearest neighbors? $k$ is called a **hyperparameter** of the model. \n",
    "\n",
    "In the previous sections, we saw how to use train/test splits, and more generally cross-validation, to evaluate how well a model will perform on new new data. One natural approach is to choose the value of $k$ to optimize test error or cross-validation error."
   ]
  },
  {
   "cell_type": "markdown",
   "metadata": {},
   "source": [
    "Remember how slow our own $k$-nearest neighbors implementation was? Now, to choose $k$, we will need to fit many $k$-nearest neighbors models, one for each value of $k$. It's time to turn to a professional implementation of $k$-nearest neighbors."
   ]
  },
  {
   "cell_type": "markdown",
   "metadata": {},
   "source": [
    "## The Scikit-Learn API\n",
    "\n",
    "[Scikit-Learn](http://scikit-learn.org/) is a Python library for machine learning. It makes it easy to train machine learning models and use them to predict on new data. All machine learning models follow the same pattern:\n",
    "\n",
    "1. Declare the model. (In our case, `KNeighborsClassifier` or `KNeighborsRegressor` for some value of `n_neighbors`.)\n",
    "2. Train the model on training data. (In the case of $k$-nearest neighbors, Scikit-Learn will organize the training data into an optimized data structure for finding nearest neighbors.)\n",
    "3. Use the model to predict the labels for new features $X$.\n",
    "\n",
    "Let's see how to use this API to train a model to classify red and white wines. First, we read in the data and create our training and test sets."
   ]
  },
  {
   "cell_type": "code",
   "execution_count": 1,
   "metadata": {},
   "outputs": [],
   "source": [
    "%matplotlib inline\n",
    "import numpy as np\n",
    "import pandas as pd\n",
    "pd.options.display.max_rows = 5\n",
    "\n",
    "# Read in the data.\n",
    "reds = pd.read_csv(\"/data301/data/winequality-red.csv\", sep=\";\")\n",
    "whites = pd.read_csv(\"/data301/data/winequality-white.csv\", sep=\";\")\n",
    "\n",
    "reds[\"color\"] = \"red\"\n",
    "whites[\"color\"] = \"white\"\n",
    "\n",
    "wines = pd.concat([reds, whites], ignore_index=True)\n",
    "\n",
    "# Train/test split\n",
    "train = wines.sample(frac=.5)\n",
    "test = wines.drop(train.index)\n",
    "\n",
    "X_train = train[[\"volatile acidity\", \"total sulfur dioxide\"]]\n",
    "y_train = train[\"color\"]\n",
    "\n",
    "X_test = test[[\"volatile acidity\", \"total sulfur dioxide\"]]\n",
    "y_test = test[\"color\"]"
   ]
  },
  {
   "cell_type": "markdown",
   "metadata": {},
   "source": [
    "Now we can use Scikit-Learn to scale the data. Scikit-Learn has a number of built-in scaling objects, including `StandardScaler` (standardizer), `Normalizer`, and `MinMaxScaler`. These objects \"remember\" the initial data that it was fit to and can be used to scale future data sets in exactly the same way."
   ]
  },
  {
   "cell_type": "code",
   "execution_count": 2,
   "metadata": {},
   "outputs": [
    {
     "data": {
      "text/plain": [
       "array([[ 3.19788186, -0.83394742],\n",
       "       [ 2.12589486, -1.40763033],\n",
       "       [ 1.88767552, -1.30332434],\n",
       "       ..., \n",
       "       [-0.79229198,  0.10480642],\n",
       "       [-0.67318231, -0.05165255],\n",
       "       [-0.79229198, -0.29503318]])"
      ]
     },
     "execution_count": 2,
     "metadata": {},
     "output_type": "execute_result"
    }
   ],
   "source": [
    "from sklearn.preprocessing import StandardScaler\n",
    "scaler = StandardScaler()\n",
    "\n",
    "# This determines which data set to standardize with respect to.\n",
    "scaler.fit(X_train)\n",
    "\n",
    "# Now we need to standardize both the training and test sets with\n",
    "# respect to the training data.\n",
    "X_train_std = scaler.transform(X_train)\n",
    "X_test_std = scaler.transform(X_test)\n",
    "\n",
    "X_test_std"
   ]
  },
  {
   "cell_type": "markdown",
   "metadata": {},
   "source": [
    "Now let's fit a $9$-nearest neighbors to the standardized data."
   ]
  },
  {
   "cell_type": "code",
   "execution_count": 3,
   "metadata": {},
   "outputs": [
    {
     "data": {
      "text/plain": [
       "array(['red', 'red', 'red', ..., 'white', 'white', 'white'], dtype=object)"
      ]
     },
     "execution_count": 3,
     "metadata": {},
     "output_type": "execute_result"
    }
   ],
   "source": [
    "from sklearn.neighbors import KNeighborsClassifier\n",
    "\n",
    "# STEP 1: Declare the model.\n",
    "model = KNeighborsClassifier(n_neighbors=9)\n",
    "\n",
    "# STEP 2: Fit the model to the training set.\n",
    "model.fit(X_train, y_train)\n",
    "\n",
    "# STEP 3: Use the model to predict on the test set.\n",
    "y_test_pred = model.predict(X_test)\n",
    "y_test_pred"
   ]
  },
  {
   "cell_type": "markdown",
   "metadata": {},
   "source": [
    "Now that we have the predictions, we can evaluate the accuracy, precision, and recall, as we did before. For example, the accuracy is:"
   ]
  },
  {
   "cell_type": "code",
   "execution_count": 4,
   "metadata": {},
   "outputs": [
    {
     "data": {
      "text/plain": [
       "0.93413357956294241"
      ]
     },
     "execution_count": 4,
     "metadata": {},
     "output_type": "execute_result"
    }
   ],
   "source": [
    "(y_test == y_test_pred).mean()"
   ]
  },
  {
   "cell_type": "markdown",
   "metadata": {},
   "source": [
    "## Cross-Validation in Scikit-Learn\n",
    "\n",
    "What about cross-validation? Scikit-learn has a `cross_val_score` function that will split up the data, fit the model to the training set, calculate the predictions on the test set, and return a \"score\" calculated for each test set.\n",
    "\n",
    "We have to keep in mind, however, that before we can fit the model, we have to first scale the data with respect to the training data. So we set up a pipeline that  scales the data and then fits the model. (If you do not need to scale the data first, then you can just pass the model directly into `cross_val_score`, without setting up a pipeline.)"
   ]
  },
  {
   "cell_type": "code",
   "execution_count": 5,
   "metadata": {},
   "outputs": [
    {
     "data": {
      "text/plain": [
       "array([ 0.94675285,  0.95412562])"
      ]
     },
     "execution_count": 5,
     "metadata": {},
     "output_type": "execute_result"
    }
   ],
   "source": [
    "from sklearn.pipeline import Pipeline\n",
    "from sklearn.model_selection import cross_val_score\n",
    "\n",
    "# Scikit-Learn will do the train/test split inside the\n",
    "# cross validation, so we do not need to do it.\n",
    "X = wines[[\"volatile acidity\", \"total sulfur dioxide\"]]\n",
    "y = wines[\"color\"]\n",
    "\n",
    "# Define the scaler and the model. We do not need to fit them\n",
    "# to data. Scikit-Learn will do it when it cross-validates.\n",
    "scaler = StandardScaler()\n",
    "model = KNeighborsClassifier(n_neighbors=9)\n",
    "\n",
    "# Create a pipeline out of the scaler and the model.\n",
    "pipeline = Pipeline([('transform', scaler), ('fit', model)])\n",
    "\n",
    "cross_val_score(pipeline, X, y, cv=2, scoring=\"accuracy\")"
   ]
  },
  {
   "cell_type": "markdown",
   "metadata": {},
   "source": [
    "Notice that we get two estimates of the accuracy. This is because we split the data in two, so we have two test sets. Alternatively, we can split our data into more sets, or **folds**. The graphic below shows how one would implement $5$-fold cross validation. We would split the data into 5 folds and use each fold as the test set, training the model on the remaining 4 folds. As a result, we end up with 5 estimates of the accuracy.\n",
    "\n",
    "<img src=\"k-fold.jpg\" />\n",
    "\n",
    "In `cross_val_score`, the `cv=` parameter controls the number of folds. So to do $5$-fold cross validation, we would do:"
   ]
  },
  {
   "cell_type": "code",
   "execution_count": 6,
   "metadata": {},
   "outputs": [
    {
     "data": {
      "text/plain": [
       "array([ 0.94076923,  0.94307692,  0.96461538,  0.94765204,  0.9568567 ])"
      ]
     },
     "execution_count": 6,
     "metadata": {},
     "output_type": "execute_result"
    }
   ],
   "source": [
    "cross_val_score(pipeline, X, y, cv=5, scoring=\"accuracy\")"
   ]
  },
  {
   "cell_type": "markdown",
   "metadata": {},
   "source": [
    "No matter how many folds we choose, we need one overall estimate of the accuracy. It is typical to take the median or the mean."
   ]
  },
  {
   "cell_type": "code",
   "execution_count": 7,
   "metadata": {},
   "outputs": [
    {
     "data": {
      "text/plain": [
       "0.95059405622234916"
      ]
     },
     "execution_count": 7,
     "metadata": {},
     "output_type": "execute_result"
    }
   ],
   "source": [
    "cross_val_score(pipeline, X, y, cv=5, scoring=\"accuracy\").mean()"
   ]
  },
  {
   "cell_type": "markdown",
   "metadata": {},
   "source": [
    "## Putting It All Together\n",
    "\n",
    "Now let's put it all together. We write a function that takes in a value of $k$ and uses Scikit-Learn to obtain the 10-fold cross-validation accuracy. Then, we apply that function to a grid of $k$ values from 1 to 200."
   ]
  },
  {
   "cell_type": "code",
   "execution_count": 8,
   "metadata": {},
   "outputs": [],
   "source": [
    "ks = pd.Series(range(1, 200, 10))\n",
    "ks.index = ks\n",
    "\n",
    "def get_cv_error_for_knn(k):\n",
    "    scaler = StandardScaler()\n",
    "    model = KNeighborsClassifier(n_neighbors=k)\n",
    "    pipeline = Pipeline([('transform', scaler), ('fit', model)])\n",
    "    return cross_val_score(pipeline, X, y, cv=10, scoring=\"accuracy\").mean()\n",
    "\n",
    "cv_errors = ks.apply(get_cv_error_for_knn)"
   ]
  },
  {
   "cell_type": "code",
   "execution_count": 9,
   "metadata": {},
   "outputs": [
    {
     "data": {
      "text/plain": [
       "61"
      ]
     },
     "execution_count": 9,
     "metadata": {},
     "output_type": "execute_result"
    },
    {
     "data": {
      "image/png": "[encoded data removed]",
      "text/plain": [
       "<matplotlib.figure.Figure at 0x7f3ab2793dd8>"
      ]
     },
     "metadata": {},
     "output_type": "display_data"
    }
   ],
   "source": [
    "cv_errors.plot.line()\n",
    "cv_errors.idxmax()"
   ]
  },
  {
   "cell_type": "markdown",
   "metadata": {},
   "source": [
    "Since the cross-validation accuracy is maximized for $k=61$, we choose $k=61$ as the optimal model."
   ]
  },
  {
   "cell_type": "markdown",
   "metadata": {},
   "source": [
    "# Exercises"
   ]
  },
  {
   "cell_type": "markdown",
   "metadata": {},
   "source": [
    "**Exercise 1.** Select variables from the Titanic data set (`/data301/data/titanic.csv`). Fit a $k$-nearest neighbors model to this data using Scikit-Learn. Use cross-validation to determine the optimal value of $k$ in terms of _precision_.\n",
    "\n",
    "(_Hint:_ You will need to modify the `scoring=` parameter of `cross_val_score`.)"
   ]
  },
  {
   "cell_type": "code",
   "execution_count": 10,
   "metadata": {},
   "outputs": [],
   "source": [
    "# YOUR CODE HERE"
   ]
  },
  {
   "cell_type": "markdown",
   "metadata": {},
   "source": [
    "**Exercise 2.** Select variables from the Ames housing data set (`/data301/data/AmesHousing.txt`). Fit a $k$-nearest neighbors model to this data using Scikit-Learn. Use cross-validation to determine the optimal value of $k$ in terms of *mean squared error*.\n",
    "\n",
    "(_Hint:_ You'll have to use `KNeighborsRegressor`, since this is a regression problem.)"
   ]
  },
  {
   "cell_type": "code",
   "execution_count": 11,
   "metadata": {},
   "outputs": [],
   "source": [
    "# YOUR CODE HERE"
   ]
  }
 ],
 "metadata": {
  "kernelspec": {
   "display_name": "Python 3",
   "language": "python",
   "name": "python3"
  },
  "language_info": {
   "codemirror_mode": {
    "name": "ipython",
    "version": 3
   },
   "file_extension": ".py",
   "mimetype": "text/x-python",
   "name": "python",
   "nbconvert_exporter": "python",
   "pygments_lexer": "ipython3",
   "version": "3.6.3"
  }
 },
 "nbformat": 4,
 "nbformat_minor": 2
}
