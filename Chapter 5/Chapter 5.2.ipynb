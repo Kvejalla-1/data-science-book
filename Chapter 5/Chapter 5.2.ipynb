{
 "cells": [
  {
   "cell_type": "markdown",
   "metadata": {},
   "source": [
    "# Chapter 5.2 The Scikit-Learn API\n",
    "\n",
    "In the previous section, we implemented $k$-nearest neighbors from scratch. Now we will see how to implement it using [Scikit-Learn](http://scikit-learn.org/), a Python library that makes it easy to train and use machine learning models. All models are trained using the exact same steps:\n",
    "\n",
    "1. Declare the model.\n",
    "2. Fit the model to training data, consisting of both features $X$ and labels $y$.\n",
    "3. Use the model to predict the labels for new values of the features.\n",
    "\n",
    "Let's take a look at how we would use this API to train a model on the Ames housing data set to predict the 2011 price of the Old Town house from the previous section. Scikit-Learn assumes that the data has already been completely converted to  quantitative variables and that the variables have already been standardized (if desired). The code below reads in the data and does the necessary preprocessing. \n",
    "\n",
    "(All of this code is copied from the previous section. Read the code, and if you are not sure what a particular line does, refer back to the previous section.)"
   ]
  },
  {
   "cell_type": "code",
   "execution_count": 1,
   "metadata": {},
   "outputs": [
    {
     "data": {
      "text/html": [
       "<div>\n",
       "<table border=\"1\" class=\"dataframe\">\n",
       "  <thead>\n",
       "    <tr style=\"text-align: right;\">\n",
       "      <th></th>\n",
       "      <th>Lot Area</th>\n",
       "      <th>Gr Liv Area</th>\n",
       "      <th>Full Bath</th>\n",
       "      <th>Half Bath</th>\n",
       "      <th>Bedroom AbvGr</th>\n",
       "      <th>Year Built</th>\n",
       "      <th>Date Sold</th>\n",
       "      <th>Neighborhood_Blmngtn</th>\n",
       "      <th>Neighborhood_Blueste</th>\n",
       "      <th>Neighborhood_BrDale</th>\n",
       "      <th>...</th>\n",
       "      <th>Neighborhood_NoRidge</th>\n",
       "      <th>Neighborhood_NridgHt</th>\n",
       "      <th>Neighborhood_OldTown</th>\n",
       "      <th>Neighborhood_SWISU</th>\n",
       "      <th>Neighborhood_Sawyer</th>\n",
       "      <th>Neighborhood_SawyerW</th>\n",
       "      <th>Neighborhood_Somerst</th>\n",
       "      <th>Neighborhood_StoneBr</th>\n",
       "      <th>Neighborhood_Timber</th>\n",
       "      <th>Neighborhood_Veenker</th>\n",
       "    </tr>\n",
       "  </thead>\n",
       "  <tbody>\n",
       "    <tr>\n",
       "      <th>0</th>\n",
       "      <td>2.743912</td>\n",
       "      <td>0.309212</td>\n",
       "      <td>-1.024618</td>\n",
       "      <td>-0.755074</td>\n",
       "      <td>0.176064</td>\n",
       "      <td>-0.375473</td>\n",
       "      <td>1.620757</td>\n",
       "      <td>-0.09821</td>\n",
       "      <td>-0.058511</td>\n",
       "      <td>-0.101692</td>\n",
       "      <td>...</td>\n",
       "      <td>-0.157561</td>\n",
       "      <td>-0.245025</td>\n",
       "      <td>-0.297967</td>\n",
       "      <td>-0.129033</td>\n",
       "      <td>-0.233061</td>\n",
       "      <td>-0.211064</td>\n",
       "      <td>-0.257308</td>\n",
       "      <td>-0.133073</td>\n",
       "      <td>-0.158694</td>\n",
       "      <td>-0.090862</td>\n",
       "    </tr>\n",
       "    <tr>\n",
       "      <th>1</th>\n",
       "      <td>0.187065</td>\n",
       "      <td>-1.194223</td>\n",
       "      <td>-1.024618</td>\n",
       "      <td>-0.755074</td>\n",
       "      <td>-1.032058</td>\n",
       "      <td>-0.342410</td>\n",
       "      <td>1.684822</td>\n",
       "      <td>-0.09821</td>\n",
       "      <td>-0.058511</td>\n",
       "      <td>-0.101692</td>\n",
       "      <td>...</td>\n",
       "      <td>-0.157561</td>\n",
       "      <td>-0.245025</td>\n",
       "      <td>-0.297967</td>\n",
       "      <td>-0.129033</td>\n",
       "      <td>-0.233061</td>\n",
       "      <td>-0.211064</td>\n",
       "      <td>-0.257308</td>\n",
       "      <td>-0.133073</td>\n",
       "      <td>-0.158694</td>\n",
       "      <td>-0.090862</td>\n",
       "    </tr>\n",
       "    <tr>\n",
       "      <th>...</th>\n",
       "      <td>...</td>\n",
       "      <td>...</td>\n",
       "      <td>...</td>\n",
       "      <td>...</td>\n",
       "      <td>...</td>\n",
       "      <td>...</td>\n",
       "      <td>...</td>\n",
       "      <td>...</td>\n",
       "      <td>...</td>\n",
       "      <td>...</td>\n",
       "      <td>...</td>\n",
       "      <td>...</td>\n",
       "      <td>...</td>\n",
       "      <td>...</td>\n",
       "      <td>...</td>\n",
       "      <td>...</td>\n",
       "      <td>...</td>\n",
       "      <td>...</td>\n",
       "      <td>...</td>\n",
       "      <td>...</td>\n",
       "      <td>...</td>\n",
       "    </tr>\n",
       "    <tr>\n",
       "      <th>2928</th>\n",
       "      <td>-0.017503</td>\n",
       "      <td>-0.218968</td>\n",
       "      <td>-1.024618</td>\n",
       "      <td>-0.755074</td>\n",
       "      <td>-1.032058</td>\n",
       "      <td>0.087408</td>\n",
       "      <td>-1.518428</td>\n",
       "      <td>-0.09821</td>\n",
       "      <td>-0.058511</td>\n",
       "      <td>-0.101692</td>\n",
       "      <td>...</td>\n",
       "      <td>-0.157561</td>\n",
       "      <td>-0.245025</td>\n",
       "      <td>-0.297967</td>\n",
       "      <td>-0.129033</td>\n",
       "      <td>-0.233061</td>\n",
       "      <td>-0.211064</td>\n",
       "      <td>-0.257308</td>\n",
       "      <td>-0.133073</td>\n",
       "      <td>-0.158694</td>\n",
       "      <td>-0.090862</td>\n",
       "    </tr>\n",
       "    <tr>\n",
       "      <th>2929</th>\n",
       "      <td>-0.066107</td>\n",
       "      <td>0.989715</td>\n",
       "      <td>0.783894</td>\n",
       "      <td>1.234464</td>\n",
       "      <td>0.176064</td>\n",
       "      <td>0.715604</td>\n",
       "      <td>-1.069973</td>\n",
       "      <td>-0.09821</td>\n",
       "      <td>-0.058511</td>\n",
       "      <td>-0.101692</td>\n",
       "      <td>...</td>\n",
       "      <td>-0.157561</td>\n",
       "      <td>-0.245025</td>\n",
       "      <td>-0.297967</td>\n",
       "      <td>-0.129033</td>\n",
       "      <td>-0.233061</td>\n",
       "      <td>-0.211064</td>\n",
       "      <td>-0.257308</td>\n",
       "      <td>-0.133073</td>\n",
       "      <td>-0.158694</td>\n",
       "      <td>-0.090862</td>\n",
       "    </tr>\n",
       "  </tbody>\n",
       "</table>\n",
       "<p>2930 rows × 35 columns</p>\n",
       "</div>"
      ],
      "text/plain": [
       "      Lot Area  Gr Liv Area  Full Bath  Half Bath  Bedroom AbvGr  Year Built  \\\n",
       "0     2.743912     0.309212  -1.024618  -0.755074       0.176064   -0.375473   \n",
       "1     0.187065    -1.194223  -1.024618  -0.755074      -1.032058   -0.342410   \n",
       "...        ...          ...        ...        ...            ...         ...   \n",
       "2928 -0.017503    -0.218968  -1.024618  -0.755074      -1.032058    0.087408   \n",
       "2929 -0.066107     0.989715   0.783894   1.234464       0.176064    0.715604   \n",
       "\n",
       "      Date Sold  Neighborhood_Blmngtn  Neighborhood_Blueste  \\\n",
       "0      1.620757              -0.09821             -0.058511   \n",
       "1      1.684822              -0.09821             -0.058511   \n",
       "...         ...                   ...                   ...   \n",
       "2928  -1.518428              -0.09821             -0.058511   \n",
       "2929  -1.069973              -0.09821             -0.058511   \n",
       "\n",
       "      Neighborhood_BrDale          ...           Neighborhood_NoRidge  \\\n",
       "0               -0.101692          ...                      -0.157561   \n",
       "1               -0.101692          ...                      -0.157561   \n",
       "...                   ...          ...                            ...   \n",
       "2928            -0.101692          ...                      -0.157561   \n",
       "2929            -0.101692          ...                      -0.157561   \n",
       "\n",
       "      Neighborhood_NridgHt  Neighborhood_OldTown  Neighborhood_SWISU  \\\n",
       "0                -0.245025             -0.297967           -0.129033   \n",
       "1                -0.245025             -0.297967           -0.129033   \n",
       "...                    ...                   ...                 ...   \n",
       "2928             -0.245025             -0.297967           -0.129033   \n",
       "2929             -0.245025             -0.297967           -0.129033   \n",
       "\n",
       "      Neighborhood_Sawyer  Neighborhood_SawyerW  Neighborhood_Somerst  \\\n",
       "0               -0.233061             -0.211064             -0.257308   \n",
       "1               -0.233061             -0.211064             -0.257308   \n",
       "...                   ...                   ...                   ...   \n",
       "2928            -0.233061             -0.211064             -0.257308   \n",
       "2929            -0.233061             -0.211064             -0.257308   \n",
       "\n",
       "      Neighborhood_StoneBr  Neighborhood_Timber  Neighborhood_Veenker  \n",
       "0                -0.133073            -0.158694             -0.090862  \n",
       "1                -0.133073            -0.158694             -0.090862  \n",
       "...                    ...                  ...                   ...  \n",
       "2928             -0.133073            -0.158694             -0.090862  \n",
       "2929             -0.133073            -0.158694             -0.090862  \n",
       "\n",
       "[2930 rows x 35 columns]"
      ]
     },
     "execution_count": 1,
     "metadata": {},
     "output_type": "execute_result"
    }
   ],
   "source": [
    "%matplotlib inline\n",
    "import numpy as np\n",
    "import pandas as pd\n",
    "pd.options.display.max_rows = 5\n",
    "\n",
    "housing = pd.read_csv(\"/data301/data/AmesHousing.txt\", sep=\"\\t\")\n",
    "\n",
    "housing[\"Date Sold\"] = housing[\"Yr Sold\"] + housing[\"Mo Sold\"] / 12\n",
    "features = [\"Lot Area\", \"Gr Liv Area\",\n",
    "            \"Full Bath\", \"Half Bath\",\n",
    "            \"Bedroom AbvGr\", \n",
    "            \"Year Built\", \"Date Sold\",\n",
    "            \"Neighborhood\"]\n",
    "X_train = pd.get_dummies(housing[features])\n",
    "y_train = housing[\"SalePrice\"]\n",
    "\n",
    "x_new = pd.Series(index=X_train.columns)\n",
    "x_new[\"Lot Area\"] = 9000\n",
    "x_new[\"Gr Liv Area\"] = 1400\n",
    "x_new[\"Full Bath\"] = 2\n",
    "x_new[\"Half Bath\"] = 1\n",
    "x_new[\"Bedroom AbvGr\"] = 3\n",
    "x_new[\"Year Built\"] = 1980\n",
    "x_new[\"Date Sold\"] = 2011\n",
    "x_new[\"Neighborhood_OldTown\"] = 1\n",
    "x_new.fillna(0, inplace=True)\n",
    "\n",
    "X_train_std = (X_train - X_train.mean()) / X_train.std()\n",
    "x_new_std = (x_new - X_train.mean()) / X_train.std()\n",
    "\n",
    "X_train_std"
   ]
  },
  {
   "cell_type": "markdown",
   "metadata": {},
   "source": [
    "`X_train_std` is a matrix of all numbers, which is the form that Scikit-Learn expects. Now let's see how to use Scikit-Learn to fit a $k$-nearest neighbors model to this data."
   ]
  },
  {
   "cell_type": "code",
   "execution_count": 2,
   "metadata": {},
   "outputs": [
    {
     "data": {
      "text/plain": [
       "array([ 132343.33333333])"
      ]
     },
     "execution_count": 2,
     "metadata": {},
     "output_type": "execute_result"
    }
   ],
   "source": [
    "from sklearn.neighbors import KNeighborsRegressor\n",
    "\n",
    "# Step 1: Declare the model.\n",
    "model = KNeighborsRegressor(n_neighbors=30)\n",
    "\n",
    "# Step 2: Fit the model to training data.\n",
    "model.fit(X_train_std, y_train)\n",
    "\n",
    "# Step 3: Use the model to predict for new observations.\n",
    "# Scikit-Learn expects 2-dimensional arrays, so we need to \n",
    "# turn the Series into a DataFrame with 1 row.\n",
    "X_new_std = x_new_std.to_frame().T\n",
    "model.predict(X_new_std)"
   ]
  },
  {
   "cell_type": "markdown",
   "metadata": {},
   "source": [
    "This is the exact same prediction that we got by implementing $k$-nearest neighbors manually. \n",
    "\n",
    "In the case of training a machine learning model to predict for a single observation, Scikit-Learn may seem like overkill. In fact, the above Scikit-Learn code was 5 lines, whereas our implementation of $k$-nearest neighbors in the previous section was only 4 lines. However, learning Scikit-Learn will pay dividends as the problems become more complex."
   ]
  },
  {
   "cell_type": "markdown",
   "metadata": {},
   "source": [
    "## Preprocessing in Scikit-Learn\n",
    "\n",
    "We constructed `X_train_std` and `x_new_std` above using just basic `pandas` operations. But it is also possible to have Scikit-Learn do this preprocessing for us. The preprocessing objects in Scikit-Learn all follow the same basic pattern:\n",
    "\n",
    "1. First, the preprocessing object has to be \"fit\" to a data set.\n",
    "2. The `.transform()` method actually processes the data. This method can be called repeatedly on different data sets and is guaranteed to process each data set in exactly the same way.\n",
    "\n",
    "It might not be obvious why it is necessary to first \"fit\" the preprocessing object to a data set before using it to process data. Hopefully, the following examples will make this clear.\n",
    "\n",
    "### Example 1: Dummy Encoding\n",
    "\n",
    "Instead of using `pd.get_dummies()`, we can do dummy encoding in Scikit-Learn using the `DictVectorizer` tool. There is one catch: `DictVectorizer` expects the data as a list of dictionaries, not as a `DataFrame`. But each row of a `DataFrame` can be represented as a dictionary, where the keys are the column names and the values are the data. `Pandas` provides a convenience function, `.to_dict()`, that converts a `DataFrame` into a list of dictionaries."
   ]
  },
  {
   "cell_type": "code",
   "execution_count": 7,
   "metadata": {},
   "outputs": [
    {
     "data": {
      "text/plain": [
       "[{'Bedroom AbvGr': 3,\n",
       "  'Date Sold': 2010.4166666666667,\n",
       "  'Full Bath': 1,\n",
       "  'Gr Liv Area': 1656,\n",
       "  'Half Bath': 0,\n",
       "  'Lot Area': 31770,\n",
       "  'Neighborhood': 'NAmes',\n",
       "  'Year Built': 1960},\n",
       " {'Bedroom AbvGr': 2,\n",
       "  'Date Sold': 2010.5,\n",
       "  'Full Bath': 1,\n",
       "  'Gr Liv Area': 896,\n",
       "  'Half Bath': 0,\n",
       "  'Lot Area': 11622,\n",
       "  'Neighborhood': 'NAmes',\n",
       "  'Year Built': 1961}]"
      ]
     },
     "execution_count": 7,
     "metadata": {},
     "output_type": "execute_result"
    }
   ],
   "source": [
    "X_train_dict = housing[features].to_dict(orient=\"records\")\n",
    "X_train_dict[:2]"
   ]
  },
  {
   "cell_type": "markdown",
   "metadata": {},
   "source": [
    "Now we pass this list to `DictVectorizer`, which will expand each categorical variable (e.g., \"Neighborhood\") into dummy variables. When the vectorizer is fit to the training data, it will learn all of the possible categories for each categorical variable so that when `.transform()` is called on different data sets, the same dummy variables will be returned (and in the same order). This is important for us because we need to apply the encoding to two data sets, the training data and the new observation, and we want to be sure that the same dummy variables appear in both."
   ]
  },
  {
   "cell_type": "code",
   "execution_count": 14,
   "metadata": {},
   "outputs": [
    {
     "data": {
      "text/plain": [
       "array([[  3.00000000e+00,   2.01041667e+03,   1.00000000e+00, ...,\n",
       "          0.00000000e+00,   0.00000000e+00,   1.96000000e+03],\n",
       "       [  2.00000000e+00,   2.01050000e+03,   1.00000000e+00, ...,\n",
       "          0.00000000e+00,   0.00000000e+00,   1.96100000e+03],\n",
       "       [  3.00000000e+00,   2.01050000e+03,   1.00000000e+00, ...,\n",
       "          0.00000000e+00,   0.00000000e+00,   1.95800000e+03],\n",
       "       ..., \n",
       "       [  3.00000000e+00,   2.00658333e+03,   1.00000000e+00, ...,\n",
       "          0.00000000e+00,   0.00000000e+00,   1.99200000e+03],\n",
       "       [  2.00000000e+00,   2.00633333e+03,   1.00000000e+00, ...,\n",
       "          0.00000000e+00,   0.00000000e+00,   1.97400000e+03],\n",
       "       [  3.00000000e+00,   2.00691667e+03,   2.00000000e+00, ...,\n",
       "          0.00000000e+00,   0.00000000e+00,   1.99300000e+03]])"
      ]
     },
     "execution_count": 14,
     "metadata": {},
     "output_type": "execute_result"
    }
   ],
   "source": [
    "from sklearn.feature_extraction import DictVectorizer\n",
    "\n",
    "vec = DictVectorizer(sparse=False)\n",
    "vec.fit(X_train_dict)\n",
    "\n",
    "X_train = vec.transform(X_train_dict)\n",
    "x_new_dict = {\n",
    "    \"Lot Area\": 9000,\n",
    "    \"Gr Liv Area\": 1400,\n",
    "    \"Full Bath\": 2,\n",
    "    \"Half Bath\": 1,\n",
    "    \"Bedroom AbvGr\": 3,\n",
    "    \"Year Built\": 1980,\n",
    "    \"Date Sold\": 2011,\n",
    "    \"Neighborhood\": \"OldTown\"\n",
    "}\n",
    "X_new = vec.transform([x_new_dict])\n",
    "\n",
    "X_train"
   ]
  },
  {
   "cell_type": "markdown",
   "metadata": {},
   "source": [
    "### Example 2: Scaling\n",
    "\n",
    "We can also use Scikit-Learn to scale our data. The `StandardScaler` function standardizes data, but there are other functions, such as `Normalizer` and `MinMaxScaler`, that normalize and apply min-max scaling to the data, respectively. \n",
    "\n",
    "In the previous section, we standardized both the training data and the new observation with respect to the _training data_. To specify that the standardization should be with respect to the training data, we fit the scaler to the training data. Then, we use the scaler to transform both the training data and the new observation."
   ]
  },
  {
   "cell_type": "code",
   "execution_count": 17,
   "metadata": {},
   "outputs": [
    {
     "data": {
      "text/plain": [
       "array([[ 0.17609421,  1.62103356, -1.02479289, ..., -0.15872127,\n",
       "        -0.0908778 , -0.37553701],\n",
       "       [-1.03223376,  1.68510949, -1.02479289, ..., -0.15872127,\n",
       "        -0.0908778 , -0.34246845],\n",
       "       [ 0.17609421,  1.68510949, -1.02479289, ..., -0.15872127,\n",
       "        -0.0908778 , -0.44167415],\n",
       "       ..., \n",
       "       [ 0.17609421, -1.32645923, -1.02479289, ..., -0.15872127,\n",
       "        -0.0908778 ,  0.68265709],\n",
       "       [-1.03223376, -1.51868702, -1.02479289, ..., -0.15872127,\n",
       "        -0.0908778 ,  0.0874229 ],\n",
       "       [ 0.17609421, -1.07015551,  0.7840283 , ..., -0.15872127,\n",
       "        -0.0908778 ,  0.71572565]])"
      ]
     },
     "execution_count": 17,
     "metadata": {},
     "output_type": "execute_result"
    }
   ],
   "source": [
    "from sklearn.preprocessing import StandardScaler\n",
    "\n",
    "scaler = StandardScaler()\n",
    "scaler.fit(X_train)\n",
    "\n",
    "X_train_std = scaler.transform(X_train)\n",
    "X_new_std = scaler.transform(X_new)\n",
    "\n",
    "X_train_std"
   ]
  },
  {
   "cell_type": "markdown",
   "metadata": {},
   "source": [
    "## Putting It All Together\n",
    "\n",
    "The following example shows a complete pipeline: from reading in the raw data and processing it, to fitting a machine learning model and using it for prediction."
   ]
  },
  {
   "cell_type": "code",
   "execution_count": 19,
   "metadata": {},
   "outputs": [
    {
     "data": {
      "text/plain": [
       "array([ 132343.33333333])"
      ]
     },
     "execution_count": 19,
     "metadata": {},
     "output_type": "execute_result"
    }
   ],
   "source": [
    "# Read in the data.\n",
    "housing = pd.read_csv(\"/data301/data/AmesHousing.txt\", sep=\"\\t\")\n",
    "\n",
    "# Define the features.\n",
    "housing[\"Date Sold\"] = housing[\"Yr Sold\"] + housing[\"Mo Sold\"] / 12\n",
    "features = [\"Lot Area\", \"Gr Liv Area\",\n",
    "            \"Full Bath\", \"Half Bath\",\n",
    "            \"Bedroom AbvGr\", \n",
    "            \"Year Built\", \"Date Sold\",\n",
    "            \"Neighborhood\"]\n",
    "\n",
    "# Define the training data.\n",
    "# Represent the features as a list of dicts.\n",
    "X_train_dict = housing[features].to_dict(orient=\"records\")\n",
    "X_new_dict = [{\n",
    "    \"Lot Area\": 9000,\n",
    "    \"Gr Liv Area\": 1400,\n",
    "    \"Full Bath\": 2,\n",
    "    \"Half Bath\": 1,\n",
    "    \"Bedroom AbvGr\": 3,\n",
    "    \"Year Built\": 1980,\n",
    "    \"Date Sold\": 2011,\n",
    "    \"Neighborhood\": \"OldTown\"\n",
    "}]\n",
    "y_train = housing[\"SalePrice\"]\n",
    "\n",
    "# Dummy encoding\n",
    "vec = DictVectorizer(sparse=False)\n",
    "vec.fit(X_train_dict)\n",
    "X_train = vec.transform(X_train_dict)\n",
    "X_new = vec.transform(X_new_dict)\n",
    "\n",
    "# Standardization\n",
    "scaler = StandardScaler()\n",
    "scaler.fit(X_train)\n",
    "X_train_std = scaler.transform(X_train)\n",
    "X_new_std = scaler.transform(X_new)\n",
    "\n",
    "# K-Nearest Neighbors Model\n",
    "model = KNeighborsRegressor(n_neighbors=30)\n",
    "model.fit(X_train_std, y_train)\n",
    "model.predict(X_new_std)"
   ]
  },
  {
   "cell_type": "markdown",
   "metadata": {},
   "source": [
    "# Exercises"
   ]
  },
  {
   "cell_type": "markdown",
   "metadata": {},
   "source": [
    "**Exercise 1.** Using Scikit-Learn, build a $k$-nearest neighbors model to predict how much tip a person will pay, using the Tips dataset (`/data301/data/tips.csv`) as your training data. Use your model to predict how much a male diner will tip on a bill of \\$40.00 on a Sunday."
   ]
  },
  {
   "cell_type": "code",
   "execution_count": null,
   "metadata": {},
   "outputs": [],
   "source": [
    "# TYPE YOUR CODE HERE"
   ]
  }
 ],
 "metadata": {
  "kernelspec": {
   "display_name": "Python 3",
   "language": "python",
   "name": "python3"
  },
  "language_info": {
   "codemirror_mode": {
    "name": "ipython",
    "version": 3
   },
   "file_extension": ".py",
   "mimetype": "text/x-python",
   "name": "python",
   "nbconvert_exporter": "python",
   "pygments_lexer": "ipython3",
   "version": "3.6.3"
  }
 },
 "nbformat": 4,
 "nbformat_minor": 2
}
