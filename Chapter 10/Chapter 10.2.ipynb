{
 "cells": [
  {
   "cell_type": "markdown",
   "metadata": {},
   "source": [
    "# 10.2 Small Multiples\n",
    "\n",
    "Rather than try to pack as much information into a single plot as possible, we can juxtapose multiple plots, each showing the data from a slightly different angle. Edward Tufte coined the term \"small multiples\" to refer to this type of graphic."
   ]
  },
  {
   "cell_type": "code",
   "execution_count": null,
   "metadata": {},
   "outputs": [],
   "source": [
    "import pandas as pd\n",
    "\n",
    "import matplotlib.pyplot as plt\n",
    "%matplotlib inline\n",
    "\n",
    "housing = pd.read_csv(\"/data301/data/AmesHousing.txt\", sep=\"\\t\")"
   ]
  },
  {
   "cell_type": "markdown",
   "metadata": {},
   "source": [
    "For example, suppose we want to show the relationship between house price and square footage, for each of the five building types."
   ]
  },
  {
   "cell_type": "code",
   "execution_count": null,
   "metadata": {},
   "outputs": [],
   "source": [
    "bldg_types = housing[\"Bldg Type\"].unique()\n",
    "bldg_types"
   ]
  },
  {
   "cell_type": "markdown",
   "metadata": {},
   "source": [
    "We can make five plots, stacked on top of one another in a single figure, using the `plt.subplots()` command. This command takes in the number of plots and returns a `Figure` object and an array of `AxesSubplot` objects."
   ]
  },
  {
   "cell_type": "code",
   "execution_count": null,
   "metadata": {},
   "outputs": [],
   "source": [
    "fig, axes = plt.subplots(5)\n",
    "axes"
   ]
  },
  {
   "cell_type": "markdown",
   "metadata": {},
   "source": [
    "Next, we add a plot to each of the `AxesSubplot` objects. To do this, we iterate over the different building types, subset the data to each building type, and call the corresponding `pandas` plotting function. We have to pass the `AxesSubplot` object to the `pandas` plotting function so that it knows where the plot should be drawn."
   ]
  },
  {
   "cell_type": "code",
   "execution_count": null,
   "metadata": {},
   "outputs": [],
   "source": [
    "fig, axes = plt.subplots(5)\n",
    "\n",
    "for ax, bldg_type in zip(axes, housing[\"Bldg Type\"].unique()):\n",
    "    housing_type = housing[housing[\"Bldg Type\"] == bldg_type]\n",
    "    housing_type.plot.scatter(x=\"Gr Liv Area\", y=\"SalePrice\", ax=ax)\n",
    "    ax.set_title(bldg_type)"
   ]
  },
  {
   "cell_type": "markdown",
   "metadata": {},
   "source": [
    "The aspect ratios of the individual plots are now distorted because the same figure size must now accommodate five plots. To give each plot a reasonable aspect ratio, the size of the figure has to be changed. We can set the figure size manually using the `figsize=` argument to `plt.subplots()`."
   ]
  },
  {
   "cell_type": "code",
   "execution_count": null,
   "metadata": {},
   "outputs": [],
   "source": [
    "fig, axes = plt.subplots(len(bldg_types), figsize=(5, 15))\n",
    "\n",
    "for ax, bldg_type in zip(axes, housing[\"Bldg Type\"].unique()):\n",
    "    housing_type = housing[housing[\"Bldg Type\"] == bldg_type]\n",
    "    housing_type.plot.scatter(x=\"Gr Liv Area\", y=\"SalePrice\", ax=ax)\n",
    "    ax.set_title(bldg_type)"
   ]
  },
  {
   "cell_type": "markdown",
   "metadata": {},
   "source": [
    "Notice that the $x$-axis of each plot is different. This makes it difficult to compare the plots. Since the plots are aligned vertically, it makes sense to use a common $x$-axis for all of the plots. We can do this by specifying `sharex=True` in `plt.subplots()`. (There is also a `sharey=` argument.) This will also solve another problem in the figure above---the overlap between the titles and the $x$-axis labels---since only the last plot will have an $x$-axis label."
   ]
  },
  {
   "cell_type": "code",
   "execution_count": null,
   "metadata": {},
   "outputs": [],
   "source": [
    "fig, axes = plt.subplots(len(bldg_types), figsize=(5, 15), sharex=True)\n",
    "\n",
    "for ax, bldg_type in zip(axes, housing[\"Bldg Type\"].unique()):\n",
    "    housing_type = housing[housing[\"Bldg Type\"] == bldg_type]\n",
    "    housing_type.plot.scatter(x=\"Gr Liv Area\", y=\"SalePrice\", ax=ax)\n",
    "    ax.set_title(bldg_type)"
   ]
  },
  {
   "cell_type": "markdown",
   "metadata": {},
   "source": [
    "## Rectangular Grid of Plots\n",
    "\n",
    "We can also make a rectangular grid of plots. For example, to display the 5 plots above in a 2 x 3 grid,  we pass in two numbers to `plt.subplots()`. The first number indicates the number of rows in the grid, while the second number indicates the number of columns."
   ]
  },
  {
   "cell_type": "code",
   "execution_count": null,
   "metadata": {},
   "outputs": [],
   "source": [
    "fig, axes = plt.subplots(2, 3)\n",
    "axes"
   ]
  },
  {
   "cell_type": "markdown",
   "metadata": {},
   "source": [
    "Notice that `axes` is now a 2-dimensional array of `AxesSubplot` objects. One way to iterate over this array is to flatten the `axes` into a 1-dimensional array and proceed exactly as before. (Another way is to iterate directly over the 2-dimensional array using nested `for` loops.)"
   ]
  },
  {
   "cell_type": "code",
   "execution_count": null,
   "metadata": {},
   "outputs": [],
   "source": [
    "fig, axes = plt.subplots(2, 3, figsize=(12, 8), sharex=True, sharey=True)\n",
    "\n",
    "for ax, bldg_type in zip(axes.flatten(), housing[\"Bldg Type\"].unique()):\n",
    "    housing_type = housing[housing[\"Bldg Type\"] == bldg_type]\n",
    "    housing_type.plot.scatter(x=\"Gr Liv Area\", y=\"SalePrice\", ax=ax)\n",
    "    ax.set_title(bldg_type)"
   ]
  },
  {
   "cell_type": "markdown",
   "metadata": {},
   "source": [
    "There is a blank plot at the end because there is room for 6 plots, but only 5 plots to make. We can hide this last plot by simply turning off the axes."
   ]
  },
  {
   "cell_type": "code",
   "execution_count": null,
   "metadata": {},
   "outputs": [],
   "source": [
    "fig, axes = plt.subplots(2, 3, figsize=(12, 8), sharex=True, sharey=True)\n",
    "\n",
    "for ax, bldg_type in zip(axes.flatten(), housing[\"Bldg Type\"].unique()):\n",
    "    housing_type = housing[housing[\"Bldg Type\"] == bldg_type]\n",
    "    housing_type.plot.scatter(x=\"Gr Liv Area\", y=\"SalePrice\", ax=ax)\n",
    "    ax.set_title(bldg_type)\n",
    "    \n",
    "axes[1, 2].axis(\"off\")"
   ]
  },
  {
   "cell_type": "markdown",
   "metadata": {},
   "source": [
    "# Exercises"
   ]
  },
  {
   "cell_type": "markdown",
   "metadata": {},
   "source": [
    "**Exercise 1.** Show the relationship between house price and square footage, for each building type, in a single \"small multiple\" graphic, with the plots arranged side-by-side in a single row. "
   ]
  },
  {
   "cell_type": "code",
   "execution_count": null,
   "metadata": {},
   "outputs": [],
   "source": [
    "# TYPE YOUR CODE HERE"
   ]
  },
  {
   "cell_type": "markdown",
   "metadata": {},
   "source": [
    "**Exercise 2.** In the previous section, you made a single plot to communicate the information in the Tips data set (`/data301/data/tips.csv`), but you most likely had to omit some of the variables from your graphic. Now, use the \"small multiples\" principle to incorporate some of these variables into your graphic."
   ]
  },
  {
   "cell_type": "code",
   "execution_count": null,
   "metadata": {},
   "outputs": [],
   "source": [
    "# TYPE YOUR CODE HERE"
   ]
  }
 ],
 "metadata": {
  "kernelspec": {
   "display_name": "Python 3",
   "language": "python",
   "name": "python3"
  },
  "language_info": {
   "codemirror_mode": {
    "name": "ipython",
    "version": 3
   },
   "file_extension": ".py",
   "mimetype": "text/x-python",
   "name": "python",
   "nbconvert_exporter": "python",
   "pygments_lexer": "ipython3",
   "version": "3.6.5"
  }
 },
 "nbformat": 4,
 "nbformat_minor": 2
}
