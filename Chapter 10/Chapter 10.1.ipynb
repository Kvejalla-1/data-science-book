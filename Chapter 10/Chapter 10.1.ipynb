{
 "cells": [
  {
   "cell_type": "markdown",
   "metadata": {},
   "source": [
    "# Chapter 10. Graphics for Communication\n",
    "\n",
    "By now, you should have plenty of experience making visualizations from `pandas` DataFrames. But how do you give your graphics the professional polish necessary for a presentation or a publication? This chapter discusses some general strategies for making professional-looking, information-dense graphics.\n",
    "\n",
    "# 10.1 Polishing Graphics Using Matplotlib\n",
    "\n",
    "The `pandas` plotting functions are built on top of `matplotlib`, the basic plotting library in Python. In this section, we will look at how to use `matplotlib` to polish graphics that were made using `pandas` plotting."
   ]
  },
  {
   "cell_type": "code",
   "execution_count": null,
   "metadata": {},
   "outputs": [],
   "source": [
    "import pandas as pd\n",
    "%matplotlib inline\n",
    "\n",
    "titanic = pd.read_csv(\"/data301/data/titanic.csv\")\n",
    "housing = pd.read_csv(\"/data301/data/AmesHousing.txt\", sep=\"\\t\")"
   ]
  },
  {
   "cell_type": "markdown",
   "metadata": {},
   "source": [
    "## Labels and Titles\n",
    "\n",
    "In Chapter 2, we made a graphic where we showed the number of survivors by `sex` and `pclass`. But there is no way to tell from this graph that what is being plotted is the number of survivors."
   ]
  },
  {
   "cell_type": "code",
   "execution_count": null,
   "metadata": {},
   "outputs": [],
   "source": [
    "survival_counts = titanic.groupby([\"pclass\", \"sex\"]).survived.sum().unstack()\n",
    "survival_counts.plot.bar()\n",
    "survival_counts"
   ]
  },
  {
   "cell_type": "markdown",
   "metadata": {},
   "source": [
    "We need to add a label to the $y$-axis. Since the `pandas` plotting functions are just wrappers around `matplotlib`, we can call `matplotlib` to set the label for the $y$-axis manually. The function `plt.ylabel()` sets the label for the $y$-axis."
   ]
  },
  {
   "cell_type": "code",
   "execution_count": null,
   "metadata": {},
   "outputs": [],
   "source": [
    "import matplotlib.pyplot as plt\n",
    "\n",
    "survival_counts.plot.bar()\n",
    "plt.ylabel(\"Number of Survivors\")"
   ]
  },
  {
   "cell_type": "markdown",
   "metadata": {},
   "source": [
    "To set the $x$-axis and title manually, we use the `plt.xlabel()` and `plt.title()` functions."
   ]
  },
  {
   "cell_type": "code",
   "execution_count": null,
   "metadata": {},
   "outputs": [],
   "source": [
    "survival_counts.plot.bar()\n",
    "plt.ylabel(\"Number of Survivors\")\n",
    "plt.xlabel(\"Passenger Class\")\n",
    "plt.title(\"Number of Survivors by Class and Sex\")"
   ]
  },
  {
   "cell_type": "markdown",
   "metadata": {},
   "source": [
    "**Warning:** Remember that `plt.xlabel()` and `plt.ylabel()` are _functions_, not attributes. That is, you cannot set the $x$-label by writing `plt.xlabel = \"Passenger Class\"`. You have to call `plt.xlabel()` as a function on the string that you want to set as the label: `plt.xlabel(\"Passenger Class\")`."
   ]
  },
  {
   "cell_type": "markdown",
   "metadata": {},
   "source": [
    "## Customizing the Axes\n",
    "\n",
    "There are many reasons to customize the axes. We may want to restrict the range of the axes to where the data lives or change the spacing of the ticks."
   ]
  },
  {
   "cell_type": "code",
   "execution_count": null,
   "metadata": {},
   "outputs": [],
   "source": [
    "housing.plot.scatter(x=\"Gr Liv Area\", y=\"SalePrice\")"
   ]
  },
  {
   "cell_type": "markdown",
   "metadata": {},
   "source": [
    "Notice that there are only a handful of homes that are larger than 4000 square feet. We may want to zoom in on the homes that are smaller than 4000 square feet. We may also want to anchor the plot at the origin, so that the bottom left corner is (0, 0). To do this, we set the range of the $x$- and $y$-axes manually using the `plt.xlim()` and `plt.ylim()` functions."
   ]
  },
  {
   "cell_type": "code",
   "execution_count": null,
   "metadata": {},
   "outputs": [],
   "source": [
    "housing.plot.scatter(x=\"Gr Liv Area\", y=\"SalePrice\")\n",
    "plt.xlim(0, 4000)\n",
    "plt.ylim(0, 700000)"
   ]
  },
  {
   "cell_type": "markdown",
   "metadata": {},
   "source": [
    "To change the locations of the ticks, we can set them manually using `plt.xticks()` and `plt.yticks()`. The ticks do not have to be evenly spaced. Both `plt.xticks()` and `plt.yticks()` take an optional second argument that specify the tick labels."
   ]
  },
  {
   "cell_type": "code",
   "execution_count": null,
   "metadata": {},
   "outputs": [],
   "source": [
    "housing.plot.scatter(x=\"Gr Liv Area\", y=\"SalePrice\")\n",
    "plt.xticks([1000, 2000, 4000])\n",
    "plt.yticks([0, 200000, 400000, 600000], \n",
    "           [\"$0\", \"$200K\", \"$400K\", \"$600K\"]);"
   ]
  },
  {
   "cell_type": "markdown",
   "metadata": {},
   "source": [
    "One reason to set the ticks manually is to eliminate \"chartjunk\": wasted ink on a graphic. Default graphics often have too many ticks with labels that are too long. The number of ticks can be reduced and the labels shortened without any loss in clarity.\n",
    "\n",
    "Another source of \"chartjunk\" is unnecessary borders. For example, we can eliminate the \"spines\" of the top and right axes without any loss of information. To do this in `matplotlib`, we save the `AxesSubplot` object returned by the `pandas` plotting function and turn off the top and right spines."
   ]
  },
  {
   "cell_type": "code",
   "execution_count": null,
   "metadata": {},
   "outputs": [],
   "source": [
    "ax = housing.plot.scatter(x=\"Gr Liv Area\", y=\"SalePrice\")\n",
    "ax.spines['top'].set_visible(False)\n",
    "ax.spines['right'].set_visible(False)"
   ]
  },
  {
   "cell_type": "markdown",
   "metadata": {},
   "source": [
    "We can even go so far as to turn off all of the spines, although this plot seems to lack the \"structure\" of the above plot. But this is a matter of taste."
   ]
  },
  {
   "cell_type": "code",
   "execution_count": null,
   "metadata": {},
   "outputs": [],
   "source": [
    "ax = housing.plot.scatter(x=\"Gr Liv Area\", y=\"SalePrice\")\n",
    "for key in ax.spines:\n",
    "    ax.spines[key].set_visible(False)"
   ]
  },
  {
   "cell_type": "markdown",
   "metadata": {},
   "source": [
    "Notice that turning the spines off does not eliminate the ticks. We can eliminate the ticks by passing an empty list to `plt.xticks()` or `plt.yticks()`."
   ]
  },
  {
   "cell_type": "code",
   "execution_count": null,
   "metadata": {},
   "outputs": [],
   "source": [
    "ax = housing.plot.scatter(x=\"Gr Liv Area\", y=\"SalePrice\")\n",
    "for key in ax.spines:\n",
    "    ax.spines[key].set_visible(False)\n",
    "plt.xticks([])\n",
    "plt.yticks([]);"
   ]
  },
  {
   "cell_type": "markdown",
   "metadata": {},
   "source": [
    "## Style Sheets\n",
    "\n",
    "The default `matplotlib` style sheet (\"default\") is acceptable, but leaves something to be desired aesthetically. You can choose a different style sheet using `plt.style.use()`. For example, to make plots using the \"fivethirtyeight\" style sheet (designed to produce graphics like the ones on [fivethirtyeight.com](http://www.fivethirtyeight.com/)), you would call `plt.style.use(\"fivethirtyeight\")`."
   ]
  },
  {
   "cell_type": "code",
   "execution_count": null,
   "metadata": {},
   "outputs": [],
   "source": [
    "plt.style.use(\"fivethirtyeight\")\n",
    "housing.plot.scatter(x=\"Gr Liv Area\", y=\"SalePrice\")"
   ]
  },
  {
   "cell_type": "markdown",
   "metadata": {},
   "source": [
    "To see a list of all of the available `matplotlib` themes, print `plt.style.available`."
   ]
  },
  {
   "cell_type": "code",
   "execution_count": null,
   "metadata": {},
   "outputs": [],
   "source": [
    "print(plt.style.available)"
   ]
  },
  {
   "cell_type": "markdown",
   "metadata": {},
   "source": [
    "The choice of styles is mostly aesthetic. But there are settings where a particular style is more appropriate. For example, the \"dark_background\" style helps the graphic blend in if it will be inserted into a presentation with a black background."
   ]
  },
  {
   "cell_type": "code",
   "execution_count": null,
   "metadata": {},
   "outputs": [],
   "source": [
    "plt.style.use(\"dark_background\")\n",
    "housing.plot.scatter(x=\"Gr Liv Area\", y=\"SalePrice\")"
   ]
  },
  {
   "cell_type": "markdown",
   "metadata": {},
   "source": [
    "The \"grayscale\" style is useful if the graphic will be printed in grayscale, instead of in color."
   ]
  },
  {
   "cell_type": "code",
   "execution_count": null,
   "metadata": {},
   "outputs": [],
   "source": [
    "plt.style.use(\"grayscale\")\n",
    "survival_counts.plot.bar()"
   ]
  },
  {
   "cell_type": "markdown",
   "metadata": {},
   "source": [
    "Suppose you like everything about the \"grayscale\" style sheet, except for the gray background. You can override any aspect of the style sheet by setting the appropriate parameter in the `rcParams` object of `matplotlib`. `rcParams` is essentially a dictionary that keeps track of the style of every element of a plot, from the figure size to the color cycle. A style sheet is nothing more than specification of the parameters in `rcParams`. For example, we see that the reason the background is gray is because the \"figure.facecolor\" parameter is set to \"0.75\" (with \"0\" being black and \"1\" being white)."
   ]
  },
  {
   "cell_type": "code",
   "execution_count": null,
   "metadata": {},
   "outputs": [],
   "source": [
    "from matplotlib import rcParams\n",
    "rcParams[\"figure.facecolor\"]"
   ]
  },
  {
   "cell_type": "markdown",
   "metadata": {},
   "source": [
    "We can make the background color white by setting the \"figure.facecolor\" parameter to \"1\"."
   ]
  },
  {
   "cell_type": "code",
   "execution_count": null,
   "metadata": {},
   "outputs": [],
   "source": [
    "plt.style.use(\"grayscale\")\n",
    "rcParams[\"figure.facecolor\"] = \"1\"\n",
    "survival_counts.plot.bar()"
   ]
  },
  {
   "cell_type": "markdown",
   "metadata": {},
   "source": [
    "Although it is not one of the available styles listed, we can revert to the original style at any time by setting the style to \"default\"."
   ]
  },
  {
   "cell_type": "code",
   "execution_count": null,
   "metadata": {},
   "outputs": [],
   "source": [
    "plt.style.use(\"default\")\n",
    "housing.plot.scatter(x=\"Gr Liv Area\", y=\"SalePrice\")"
   ]
  },
  {
   "cell_type": "markdown",
   "metadata": {},
   "source": [
    "## Figure Size\n",
    "\n",
    "You might be surprised that the figure became larger when we returned to the \"default\" style. The reason for this is technical. The \"default\" style sheet specifies that the figure size should be (6.4, 4.8). But this parameter setting is overwritten by the \"inline\" backend of IPython (which is loaded when we call `%matplotlib inline`), which specifies that the figure size should be (6.0, 4.0). When we call `plt.style.use(\"default\")` explicitly, the figure size is set to (6.4, 4.8), which is why it looks bigger than before.\n",
    "\n",
    "To set the figure size explicitly, we can use the `figuresize=` argument of the `pandas` plotting method."
   ]
  },
  {
   "cell_type": "code",
   "execution_count": null,
   "metadata": {},
   "outputs": [],
   "source": [
    "housing.plot.scatter(x=\"Gr Liv Area\", y=\"SalePrice\", figsize=(12, 8))"
   ]
  },
  {
   "cell_type": "markdown",
   "metadata": {},
   "source": [
    "## Saving\n",
    "\n",
    "To save a figure to disk, use `plt.savefig()`. `matplotlib` will usually be able to determine the right format from the file extension."
   ]
  },
  {
   "cell_type": "code",
   "execution_count": null,
   "metadata": {},
   "outputs": [],
   "source": [
    "housing.plot.scatter(x=\"Gr Liv Area\", y=\"SalePrice\")\n",
    "plt.savefig(\"sqft_vs_price.png\")"
   ]
  },
  {
   "cell_type": "markdown",
   "metadata": {},
   "source": [
    "# Exercises"
   ]
  },
  {
   "cell_type": "markdown",
   "metadata": {},
   "source": [
    "**Exercise 1.** Make a publication-ready graphic that communicates the information in the `tips` data set (`/data301/data/tips.csv`). Your graphic should have a title, self-explanatory axes labels, and reasonable axes ranges. Use an appropriate style, and save your graphic to disk."
   ]
  },
  {
   "cell_type": "code",
   "execution_count": null,
   "metadata": {},
   "outputs": [],
   "source": [
    "# TYPE YOUR CODE HERE."
   ]
  }
 ],
 "metadata": {
  "kernelspec": {
   "display_name": "Python 3",
   "language": "python",
   "name": "python3"
  },
  "language_info": {
   "codemirror_mode": {
    "name": "ipython",
    "version": 3
   },
   "file_extension": ".py",
   "mimetype": "text/x-python",
   "name": "python",
   "nbconvert_exporter": "python",
   "pygments_lexer": "ipython3",
   "version": "3.6.5"
  }
 },
 "nbformat": 4,
 "nbformat_minor": 2
}
