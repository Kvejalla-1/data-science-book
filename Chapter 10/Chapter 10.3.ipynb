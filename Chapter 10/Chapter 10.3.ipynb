{
 "cells": [
  {
   "cell_type": "markdown",
   "metadata": {},
   "source": [
    "# 10.3 The Grammar of Graphics\n",
    "\n",
    "The grammar of graphics makes it easy to specify information-dense graphics. The key idea is to map \"aesthetics\" of a plot (e.g., color, size, $x$-axis, $y$-axis) to variables in the data set. Libraries based on the grammar of graphics include `ggplot2` in `R` and [Altair](https://altair-viz.github.io/) in Python. In this section, you will learn to use Altair to quickly make a complex graphic."
   ]
  },
  {
   "cell_type": "code",
   "execution_count": null,
   "metadata": {
    "collapsed": false
   },
   "outputs": [],
   "source": [
    "from altair import *\n",
    "import pandas as pd\n",
    "\n",
    "housing = pd.read_csv(\"/data301/data/AmesHousing.txt\", sep=\"\\t\")"
   ]
  },
  {
   "cell_type": "markdown",
   "metadata": {},
   "source": [
    "## Altair Basics\n",
    "\n",
    "Let's make a scatterplot that shows the relationship between house price and square footage, where each point is colored according to its building type.\n",
    "\n",
    "Every Altair command starts with `Chart(your_data_frame)`. Then, you have to specify two elements of the graphic:\n",
    "- the mark (a.k.a. geometric object)\n",
    "- the encoding channels (a.k.a. aesthetic mappings)\n",
    "\n",
    "For a scatterplot, the \"mark\" is a circle."
   ]
  },
  {
   "cell_type": "code",
   "execution_count": null,
   "metadata": {},
   "outputs": [],
   "source": [
    "Chart(housing).mark_circle().encode(\n",
    "    x=\"Gr Liv Area\",\n",
    "    y=\"SalePrice\",\n",
    "    color=\"Bldg Type\"\n",
    ")"
   ]
  },
  {
   "cell_type": "markdown",
   "metadata": {},
   "source": [
    "To display this information in \"small multiples\" format (i.e., a series of side-by-side plots), we can map a variable to the `row` or `column` aesthetic."
   ]
  },
  {
   "cell_type": "code",
   "execution_count": null,
   "metadata": {
    "collapsed": false
   },
   "outputs": [],
   "source": [
    "Chart(housing).mark_circle().encode(\n",
    "    x=\"Gr Liv Area\",\n",
    "    y=\"SalePrice\",\n",
    "    column=\"Bldg Type\"\n",
    ")"
   ]
  },
  {
   "cell_type": "markdown",
   "metadata": {},
   "source": [
    "## Customizing Plots\n",
    "\n",
    "In the plots above, we mapped variables to aesthetics by simply specifying the column names. Although this is convenient, it does not allow for further customization of the aesthetics. To customize an aesthetic, we have to use the verbose method of specifying the aesthetic.\n",
    "\n",
    "Each aesthetic has an associated Python class. The name of the class is usually just the name of the aesthetic, but capitalized. For example, the `x` aesthetic is associated with the `X` class, and the `color` aesthetic is associated with the `Color` class. The constructor for each class takes as arguments the name of a variable, along with any relevant customizations.\n",
    "\n",
    "For example, suppose we want to change the $x$-axis limits to go from 0 to 4000, and we want the tick labels on the $y$-axis to print 4e+5 instead of 400,000. Here's how to do this in Altair."
   ]
  },
  {
   "cell_type": "code",
   "execution_count": null,
   "metadata": {
    "collapsed": false
   },
   "outputs": [],
   "source": [
    "Chart(housing).mark_circle().encode(\n",
    "    x=X(\"Gr Liv Area\", scale=Scale(domain=(0, 4000))),\n",
    "    y=Y(\"SalePrice\", axis=Axis(format=\"e\")),\n",
    "    column=\"Bldg Type\"\n",
    ")"
   ]
  },
  {
   "cell_type": "markdown",
   "metadata": {},
   "source": [
    "Notice the use of [D3 format strings](https://github.com/d3/d3-format/blob/master/README.md#formatPrefix) to specify the axis format."
   ]
  },
  {
   "cell_type": "markdown",
   "metadata": {},
   "source": [
    "# Exercises\n",
    "\n",
    "**Exercise 1.** Use Altair to make a graphic that shows the relationship between square footage and living area---using color to represent the lot area and using row and column facets to represent the building type and roof style. How does Altair handle color for a quantitative variable, like lot area?"
   ]
  },
  {
   "cell_type": "code",
   "execution_count": null,
   "metadata": {
    "collapsed": false
   },
   "outputs": [],
   "source": [
    "# ENTER YOUR CODE HERE."
   ]
  },
  {
   "cell_type": "markdown",
   "metadata": {},
   "source": [
    "**Exercise 2.** Use Altair to make a graphic that communicates the information in the Tips data set (`/data301/data/tips.csv`)"
   ]
  },
  {
   "cell_type": "code",
   "execution_count": null,
   "metadata": {},
   "outputs": [],
   "source": [
    "# ENTER YOUR CODE HERE."
   ]
  }
 ],
 "metadata": {
  "kernelspec": {
   "display_name": "Python 3",
   "language": "python",
   "name": "python3"
  },
  "language_info": {
   "codemirror_mode": {
    "name": "ipython",
    "version": 3
   },
   "file_extension": ".py",
   "mimetype": "text/x-python",
   "name": "python",
   "nbconvert_exporter": "python",
   "pygments_lexer": "ipython3",
   "version": "3.6.5"
  }
 },
 "nbformat": 4,
 "nbformat_minor": 2
}
