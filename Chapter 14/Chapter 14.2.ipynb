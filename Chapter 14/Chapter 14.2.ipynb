{
 "cells": [
  {
   "cell_type": "markdown",
   "metadata": {},
   "source": [
    "# Chapter 14.2 Dot Maps\n",
    "\n",
    "A **dot map** is a way to visualize the locations of events in space. In a dot map, points are added to a map to represent the geographic location of some event.\n",
    "\n",
    "Perhaps the most important dot map ever is John Snow's map of the cholera cases during the 1854 London cholera outbreak. At the time, the cause of cholera was unknown. Snow's dot map showed that the cholera cases were centered around a particular water pump, the Broad Street pump. (In the days before running water, residents had to fetch water from the local water pump.) Snow's dot map is shown below; each \"dot\" is a thin black box. The boxes are stacked to indicate the number of residents could have contracted cholera. As a result, the data appear as black bars of different heights at this resolution, but if you zoom in, then you can see the individual \"dots\".\n",
    "\n",
    "![](cholera.jpg)\n",
    "\n",
    "Snow followed up on this insight by interviewing residents near the Broad Street pump. He found that everyone who had contracted cholera had consumed water from the Broad Street pump; those who lived near the pump but did not contract cholera got their water from a different pump. Thus, with one simple dot map, John Snow established that cholera was transmitted through water."
   ]
  },
  {
   "cell_type": "markdown",
   "metadata": {},
   "source": [
    "Let's look at how to make dot maps in Python. We will make a map of all earthquakes in the world on June 4, 2018. First, we read in the data."
   ]
  },
  {
   "cell_type": "code",
   "execution_count": null,
   "metadata": {},
   "outputs": [],
   "source": [
    "import pandas as pd\n",
    "pd.options.display.max_rows = 15\n",
    "\n",
    "quakes = pd.read_csv(\"/data301/data/earthquakes.csv\")\n",
    "quakes"
   ]
  },
  {
   "cell_type": "markdown",
   "metadata": {},
   "source": [
    "Next, we set up the basic map, like we did in the previous section."
   ]
  },
  {
   "cell_type": "code",
   "execution_count": null,
   "metadata": {},
   "outputs": [],
   "source": [
    "import matplotlib.pyplot as plt\n",
    "from mpl_toolkits.basemap import Basemap\n",
    "%matplotlib inline\n",
    "\n",
    "plt.figure(figsize=(15, 10))\n",
    "m = Basemap(projection=\"robin\", lon_0=0)\n",
    "m.drawcoastlines()"
   ]
  },
  {
   "cell_type": "markdown",
   "metadata": {},
   "source": [
    "Finally, we add dots to the map. We add points in the same way as we make a scatterplot---by specifying the x- and y-coordinates---but we have to first convert the longitudes and latitudes to the x- and y-coordinates using the map projection. The `Basemap` object that we defined above can do this conversion. We simply have to call the object on the longitude and latitude values."
   ]
  },
  {
   "cell_type": "code",
   "execution_count": null,
   "metadata": {},
   "outputs": [],
   "source": [
    "x, y = m(quakes.longitude.values, quakes.latitude.values)\n",
    "\n",
    "plt.figure(figsize=(15, 10))\n",
    "m.drawcoastlines()\n",
    "m.scatter(x, y, c=\"r\")"
   ]
  },
  {
   "cell_type": "markdown",
   "metadata": {},
   "source": [
    "Just as we did with scatterplots, we can use size and color to represent additional dimensions of our data. For example, we might represent the magnitude of each earthquake using the size of each point."
   ]
  },
  {
   "cell_type": "code",
   "execution_count": null,
   "metadata": {},
   "outputs": [],
   "source": [
    "x, y = m(quakes.longitude.values, quakes.latitude.values)\n",
    "\n",
    "plt.figure(figsize=(15, 10))\n",
    "m.drawcoastlines()\n",
    "m.scatter(x, y, c=\"r\", s=quakes.mag ** 2)"
   ]
  },
  {
   "cell_type": "markdown",
   "metadata": {},
   "source": [
    "# Exercises"
   ]
  },
  {
   "cell_type": "markdown",
   "metadata": {},
   "source": [
    "**Exercise 1.** The file `/data301/data/ncaa-football-stadiums.csv` contains information about the locations and capacity of NCAA football stadiums. Make a dot map that represents this data."
   ]
  },
  {
   "cell_type": "code",
   "execution_count": null,
   "metadata": {},
   "outputs": [],
   "source": [
    "# TYPE YOUR CODE HERE"
   ]
  }
 ],
 "metadata": {
  "kernelspec": {
   "display_name": "Python 3",
   "language": "python",
   "name": "python3"
  },
  "language_info": {
   "codemirror_mode": {
    "name": "ipython",
    "version": 3
   },
   "file_extension": ".py",
   "mimetype": "text/x-python",
   "name": "python",
   "nbconvert_exporter": "python",
   "pygments_lexer": "ipython3",
   "version": "3.6.5"
  }
 },
 "nbformat": 4,
 "nbformat_minor": 2
}
