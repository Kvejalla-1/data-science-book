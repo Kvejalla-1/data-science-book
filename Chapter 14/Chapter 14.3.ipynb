{
 "cells": [
  {
   "cell_type": "markdown",
   "metadata": {},
   "source": [
    "# Chapter 14.3 Choropleths\n",
    "\n",
    "A **choropleth** is a map in which areas are colored according to some statistic of interest. Perhaps the most familiar example of a choropleth is the presidential election map, which shows the percentage in each county who voted for the Democratic or Republican candidate. In this graphic, the areal units are counties, and the statistic of interest is the percentage who voted for the Democratic (or Republican) candidate. \n",
    "\n",
    "![](2016election.png)\n",
    "\n",
    "In this notebook, you will learn how to make choropleths like the one above."
   ]
  },
  {
   "cell_type": "markdown",
   "metadata": {},
   "source": [
    "## Shapefiles\n",
    "\n",
    "The shapefile format is a data format for geometric objects, such as points, lines, and polygons. A shapefile can be used to describe the boundaries of a lake, the course of a river, or the boundaries of a county.\n",
    "\n",
    "You can find shapefiles for most geographic entities online. For example, the [U.S. Census Bureau](https://www.census.gov/geo/maps-data/data/tiger-cart-boundary.html) maintains shapefiles for boundaries of states, counties, and congressional districts in the United States. Shapefiles for the countries of the world can be found [at this website](http://thematicmapping.org/downloads/world_borders.php).\n",
    "\n",
    "I downloaded the shapefiles for U.S. counties from the Census Bureau website and uploaded them to JupyterHub. You can find them in the `/data301/data/cb_2016_us_county_5m/` directory."
   ]
  },
  {
   "cell_type": "code",
   "execution_count": null,
   "metadata": {},
   "outputs": [],
   "source": [
    "!ls /data301/data/cb_2016_us_county_5m/"
   ]
  },
  {
   "cell_type": "markdown",
   "metadata": {},
   "source": [
    "Notice that \"shapefile\" is somewhat of a misnomer, as the format refers not to a single file but a collection of files. The main files are:\n",
    "\n",
    "- `.shp` - shape format, which stores the geometric objects\n",
    "- `.shx` - shape index format, which indexes the objects to make them quickly searchable\n",
    "- `.dbf` - attribute format, which stores additional metadata about each object\n",
    "- `.prj` - projection format\n",
    "\n",
    "To read in a shapefile using Basemap, we first set up the map, then call the `.readshapefile()` method, which takes two arguments: (1) the stem of the shapefiles (without the file extension) and (2) a name for the field that will store the attributes (you can pick any name you like, but try to be descriptive)."
   ]
  },
  {
   "cell_type": "code",
   "execution_count": null,
   "metadata": {},
   "outputs": [],
   "source": [
    "from mpl_toolkits.basemap import Basemap\n",
    "%matplotlib inline\n",
    "\n",
    "m = Basemap(llcrnrlon=-119, llcrnrlat=22, urcrnrlon=-64, urcrnrlat=49,\n",
    "            projection=\"lcc\", lat_1=33, lat_2=45, lon_0=-95)\n",
    "m.readshapefile(\"/data301/data/cb_2016_us_county_5m/cb_2016_us_county_5m\", \"counties\")"
   ]
  },
  {
   "cell_type": "markdown",
   "metadata": {},
   "source": [
    "Since the field was named `counties`, the vertices of each polygon will be stored in `m.counties`"
   ]
  },
  {
   "cell_type": "code",
   "execution_count": null,
   "metadata": {},
   "outputs": [],
   "source": [
    "m.counties[2]"
   ]
  },
  {
   "cell_type": "markdown",
   "metadata": {},
   "source": [
    "and information about each county stored in `m.counties_info`."
   ]
  },
  {
   "cell_type": "code",
   "execution_count": null,
   "metadata": {},
   "outputs": [],
   "source": [
    "m.counties_info[:2]"
   ]
  },
  {
   "cell_type": "markdown",
   "metadata": {},
   "source": [
    "Note that the information in `m.counties_info` can be readily converted into a `DataFrame`."
   ]
  },
  {
   "cell_type": "code",
   "execution_count": null,
   "metadata": {},
   "outputs": [],
   "source": [
    "import pandas as pd\n",
    "pd.options.display.max_rows = 15\n",
    "\n",
    "counties_info = pd.DataFrame(m.counties_info)\n",
    "counties_info"
   ]
  },
  {
   "cell_type": "markdown",
   "metadata": {},
   "source": [
    "## Patches and Collections in `matplotlib`\n",
    "\n",
    "In order to understand how choropleths are made, it is important to first understand what a `Patch` is in `matplotlib`. A `Patch` is simply a 2-dimensional object with an edge color and face color. Examples of `Patch`es include `Circle`s, `Rectangle`s, and `Polygon`s. Since areal units---like countries, states, and counties---are polygons in general, the most important type of `Patch` for making a choropleth is the `Polygon`. A `Polygon` is specified by a list of its vertices. For example, the following code creates a red `Polygon` out of the first county in the shapefile:"
   ]
  },
  {
   "cell_type": "code",
   "execution_count": null,
   "metadata": {},
   "outputs": [],
   "source": [
    "import matplotlib as mpl\n",
    "\n",
    "polygon = mpl.patches.Polygon(m.counties[0], facecolor=\"red\")\n",
    "polygon"
   ]
  },
  {
   "cell_type": "markdown",
   "metadata": {},
   "source": [
    "To draw the `Polygon` object that we just constructed, we first initialize a map and add the `Polygon` patch to the map. Notice that it is colored red, just like we specified above."
   ]
  },
  {
   "cell_type": "code",
   "execution_count": null,
   "metadata": {},
   "outputs": [],
   "source": [
    "import matplotlib.pyplot as plt\n",
    "%matplotlib inline\n",
    "\n",
    "# Initialize a blank map.\n",
    "m.drawmapboundary()\n",
    "# Get the current axes.\n",
    "ax = plt.gca()\n",
    "# Add the patch to the current axes.\n",
    "ax.add_patch(polygon)"
   ]
  },
  {
   "cell_type": "markdown",
   "metadata": {},
   "source": [
    "Thus, one way to create a choropleth is to draw the `Polygon` for each county, one at a time, setting the face color of each patch to an appropriate color based on the data value for that county. This requires that we maintain a color map that maps data values to colors.\n",
    "\n",
    "An easier way to make a choropleth is to create a `PatchCollection`, which allows us to associate a value with each patch and automatically generates a color map from the values. For example, suppose we want to color each county according to the fraction of the county that is water."
   ]
  },
  {
   "cell_type": "code",
   "execution_count": null,
   "metadata": {},
   "outputs": [],
   "source": [
    "frac_water = counties_info[\"AWATER\"] / (counties_info[\"AWATER\"] + counties_info[\"ALAND\"])\n",
    "frac_water"
   ]
  },
  {
   "cell_type": "markdown",
   "metadata": {},
   "source": [
    "We first create a `Polygon` for each county and then create a `PatchCollection` out of the polygons. Since we are displaying the fraction of each county that is _water_, it makes sense to use a blue color map (`Blues`). (A list of the available colormaps can be found [here](https://matplotlib.org/users/colormaps.html).)"
   ]
  },
  {
   "cell_type": "code",
   "execution_count": null,
   "metadata": {},
   "outputs": [],
   "source": [
    "# Turn each set of vertices into a matplotlib Polygon.\n",
    "polygons = [mpl.patches.Polygon(vertices) for vertices in m.counties]\n",
    "\n",
    "# Create a collection of Polygons.\n",
    "collection = mpl.collections.PatchCollection(polygons, cmap=\"Blues\")"
   ]
  },
  {
   "cell_type": "markdown",
   "metadata": {},
   "source": [
    "Now for the key step. We have to tell the `PatchCollection` about the data values. To do this, we use the `.set_array()` method. Notice that the data values are in the same order as the polygons; the former was derived from `m.counties_info`, while the latter was derived from `m.counties`. The shapefile guarantees that these two lists are aligned."
   ]
  },
  {
   "cell_type": "code",
   "execution_count": null,
   "metadata": {},
   "outputs": [],
   "source": [
    "collection.set_array(frac_water)"
   ]
  },
  {
   "cell_type": "markdown",
   "metadata": {},
   "source": [
    "Now we are ready to draw the map. To add a `PatchCollection` to a `matplotlib` `AxesSubplot` object, we use the `.add_collection()` method."
   ]
  },
  {
   "cell_type": "code",
   "execution_count": null,
   "metadata": {},
   "outputs": [],
   "source": [
    "# Initialize a blank map.\n",
    "m.drawmapboundary()\n",
    "# Get the current axes.\n",
    "ax = plt.gca()\n",
    "# Add the collection to the current axes.\n",
    "ax.add_collection(collection)"
   ]
  },
  {
   "cell_type": "markdown",
   "metadata": {},
   "source": [
    "Notice that the counties that border major bodies of water tend to have a higher fraction of their area as water. This makes intuitive sense."
   ]
  },
  {
   "cell_type": "markdown",
   "metadata": {},
   "source": [
    "## Making Choropleths with Outside Data\n",
    "\n",
    "In the above example, we made a choropleth from data that was already in the shapefile. But in general, the shapefile only contains minimal metadata about each areal unit. Suppose the data that we want to visualize resides in a separate file. For example, suppose we want to plot the 2016 presidential election results by county."
   ]
  },
  {
   "cell_type": "code",
   "execution_count": null,
   "metadata": {},
   "outputs": [],
   "source": [
    "election_data = pd.read_csv(\"/data301/data/election2016.csv\")\n",
    "election_data"
   ]
  },
  {
   "cell_type": "markdown",
   "metadata": {},
   "source": [
    "We will need to merge `election_data` with the `counties_info` `DataFrame` that we defined above. But what do we merge the `DataFrame`s on? It turns out that every county in the United States is assigned a unique ID called a FIPS code. The FIPS code appears in `election_data` as `combined_fips` and in `counties_info` as `GEOID`. Let's take a look at these columns."
   ]
  },
  {
   "cell_type": "code",
   "execution_count": null,
   "metadata": {},
   "outputs": [],
   "source": [
    "election_data.combined_fips"
   ]
  },
  {
   "cell_type": "code",
   "execution_count": null,
   "metadata": {},
   "outputs": [],
   "source": [
    "counties_info.GEOID"
   ]
  },
  {
   "cell_type": "markdown",
   "metadata": {},
   "source": [
    "Notice that `counties_info` treats the FIPS code as a string (so every FIPS code is exactly 5 digits, with a leading zero if necessary). On the other hand, `election_data` treats the FIPS code as an integer. If we want to join the two, we will have to cast them to the same type. It is probably easier to convert the string to an integer than vice versa."
   ]
  },
  {
   "cell_type": "code",
   "execution_count": null,
   "metadata": {},
   "outputs": [],
   "source": [
    "counties_info[\"GEOID\"] = counties_info[\"GEOID\"].astype(int)"
   ]
  },
  {
   "cell_type": "markdown",
   "metadata": {},
   "source": [
    "We are almost ready to merge `election_data` and `counties_info`. But before we proceed, remember that _order matters_. We need the order of the data values to match the order of the polygons. The shapefile guarantees that `counties_info` is aligned with `m.counties`, but `election_data` may list the counties in a different order. We need to merge `counties_info` with `election_data` in such a way that preserves the ordering of the counties in `counties_info`. A _left join_ preserves the ordering in the left `DataFrame`, as long as the relationship is not one-to-many. (Each county should appear only once in `election_data`, so this condition holds.)"
   ]
  },
  {
   "cell_type": "code",
   "execution_count": null,
   "metadata": {},
   "outputs": [],
   "source": [
    "all_data = counties_info.merge(election_data, \n",
    "                               how=\"left\", \n",
    "                               left_on=\"GEOID\", right_on=\"combined_fips\")\n",
    "all_data"
   ]
  },
  {
   "cell_type": "markdown",
   "metadata": {},
   "source": [
    "One quick sanity check is to make sure that `all_data` has the same number of rows as `counties_info` (and `m.counties`). This seems to be the case.\n",
    "\n",
    "Now that the data values are aligned with the counties, we create a choropleth exactly as before:\n",
    "\n",
    "1. Create a `Polygon` for each county from the vertices in `m.counties`.\n",
    "2. Create a `PatchCollection` out of the `Polygons`. Set a color map for the collection.\n",
    "3. Call `PatchCollection.set_array()` on the data values. (Make sure the data values appear in the same order as the polygons.)\n",
    "4. Draw the map.\n",
    "\n",
    "There is just one catch. When we left-joined `counties_info` to `election_data`, some of the FIPS codes could not be matched. Therefore, these counties will be missing election data. Unfortunately, `matplotlib`'s color maps do not handle missing values gracefully, so we will have to handle these manually.\n",
    "\n",
    "Let's first take a look at which states these counties were in."
   ]
  },
  {
   "cell_type": "code",
   "execution_count": null,
   "metadata": {},
   "outputs": [],
   "source": [
    "all_data[all_data.per_dem.isnull()].STATEFP.value_counts()"
   ]
  },
  {
   "cell_type": "markdown",
   "metadata": {},
   "source": [
    "[A list of FIPS State Codes can be found here](https://en.wikipedia.org/wiki/Federal_Information_Processing_Standard_state_code). The \"states\" that had more than one county missing election data are all outlying territories: Puerto Rico (72), Northern Mariana Islands (69), Virgin Islands (78), American Samoa (60), and Guam (66). It turns out that the two remaining states, each with exactly one county that could not be joined, are Alaska (02) and Hawaii (15), which do not show up on our map of the continental United States. So we can safely fill the missing values in the `all_data` with an arbitrary value in the middle of the data range without affecting the appearance of the map, since none of these states/territories actually show up on the map."
   ]
  },
  {
   "cell_type": "code",
   "execution_count": null,
   "metadata": {},
   "outputs": [],
   "source": [
    "# Turn each set of vertices into a matplotlib Polygon.\n",
    "polygons = [mpl.patches.Polygon(vertices) for vertices in m.counties]\n",
    "\n",
    "# Create a collection of Polygons.\n",
    "p = mpl.collections.PatchCollection(polygons, cmap=\"RdBu\")\n",
    "\n",
    "# Set the data that you want to plot.\n",
    "# (Notice that we fill missing values with 0.5, per the above discussion.)\n",
    "p.set_array(all_data.per_dem.fillna(0.5))\n",
    "\n",
    "# Draw the map.\n",
    "plt.figure(figsize=(12, 8))\n",
    "m.drawmapboundary()\n",
    "ax = plt.gca()\n",
    "ax.add_collection(p)"
   ]
  },
  {
   "cell_type": "markdown",
   "metadata": {},
   "source": [
    "# Exercises"
   ]
  },
  {
   "cell_type": "markdown",
   "metadata": {},
   "source": [
    "**Exercise 1.** Use the shapefiles for the countries of the world (`/data301/data/TM_WORLD_BORDERS_SIMPL-0.3/`) to make a choropleth showing carbon dioxide emissions per capita in 2014 (`/data301/data/co2.csv`).\n",
    "\n",
    "(_Hint:_ Some countries are missing data. One way to handle this is to: (1) fill the missing values with an arbitrary value in the range when making the initial map, and (2) go back and re-draw the polygons for those countries on top of the existing map, using a special face color to indicate that data was missing.)"
   ]
  },
  {
   "cell_type": "code",
   "execution_count": null,
   "metadata": {},
   "outputs": [],
   "source": [
    "# TYPE YOUR CODE HERE."
   ]
  }
 ],
 "metadata": {
  "kernelspec": {
   "display_name": "Python 3",
   "language": "python",
   "name": "python3"
  },
  "language_info": {
   "codemirror_mode": {
    "name": "ipython",
    "version": 3
   },
   "file_extension": ".py",
   "mimetype": "text/x-python",
   "name": "python",
   "nbconvert_exporter": "python",
   "pygments_lexer": "ipython3",
   "version": "3.6.5"
  }
 },
 "nbformat": 4,
 "nbformat_minor": 2
}
