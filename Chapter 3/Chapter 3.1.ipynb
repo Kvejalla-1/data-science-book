{
 "cells": [
  {
   "cell_type": "markdown",
   "metadata": {},
   "source": [
    "# Chapter 3. Relationships between Variables\n",
    "\n",
    "So far, we have seen different ways to summarize and visualize individual variables in a `DataFrame`. But we have not really discussed how to summarize and visualize _relationships_ between variables. This chapter is all about how to understand relationships _between_ columns in our data set.\n",
    "\n",
    "# 3.1 Relationships between Quantitative Variables\n",
    "\n",
    "We will begin by looking at ways to summarize and visualize relationships between _quantitative_ variables. To do this, we will look at a data set of house prices in Ames, Iowa. This data set is stored in a tab-separated values file."
   ]
  },
  {
   "cell_type": "code",
   "execution_count": null,
   "metadata": {},
   "outputs": [],
   "source": [
    "%matplotlib inline\n",
    "import pandas as pd\n",
    "\n",
    "df = pd.read_csv(\"/data301/data/AmesHousing.txt\", sep=\"\\t\")"
   ]
  },
  {
   "cell_type": "markdown",
   "metadata": {},
   "source": [
    "## Visualization\n",
    "\n",
    "Let's start by visualizing the relationship between the square footage (of the dwelling) and the sale price. To do this, we can make a scatterplot. In a scatterplot, each observation is represented by a point. The $(x, y)$ coordinates of each point represent the values of two variables for that observation. So a scatterplot conveys information about the relationship between two quantitative variables.\n",
    "\n",
    "To make a scatterplot in `pandas`, we use the `.plot.scatter()` method of `DataFrame`. Since there are multiple columns in the `DataFrame`, we have to specify which variable is $x$ and which variable is $y$."
   ]
  },
  {
   "cell_type": "code",
   "execution_count": null,
   "metadata": {},
   "outputs": [],
   "source": [
    "df.plot.scatter(x=\"Gr Liv Area\", y=\"SalePrice\")"
   ]
  },
  {
   "cell_type": "markdown",
   "metadata": {},
   "source": [
    "We see that square footage (of the dwelling) and the sale price are positively correlated. That is, the greater the living area, the higher the sale price.\n",
    "\n",
    "It is not easy to visualize relationships in more than two dimensions. One way is to use the sizes and colors of the points on a scatterplot to represent additional variables. The `.plot.scatter()` function also takes in two additional arguments `s=` and `c=` that do this. For example, if we wanted to also include the effect of the number of bedrooms on the above scatterplot, we could use the color variable."
   ]
  },
  {
   "cell_type": "code",
   "execution_count": null,
   "metadata": {},
   "outputs": [],
   "source": [
    "df.plot.scatter(x=\"Gr Liv Area\", y=\"SalePrice\", c=\"Bedroom AbvGr\", alpha=.5)"
   ]
  },
  {
   "cell_type": "markdown",
   "metadata": {},
   "source": [
    "Notice how the colors become lighter as you move up the plot. That means that, holding square footage constant, a house is more expensive the _more_ bedrooms it has. (Why do you think this is?)"
   ]
  },
  {
   "cell_type": "markdown",
   "metadata": {},
   "source": [
    "Another way to visualize the relationship between multiple quantitative variables is to visualize them two at a time, by creating a scatterplot matrix. Let's use a scatterplot to visualize the pairwise relationships between square footage, number of bedrooms, number of (full) bathrooms, and sale price. (We have to select these variables from the `DataFrame` first.)"
   ]
  },
  {
   "cell_type": "code",
   "execution_count": null,
   "metadata": {},
   "outputs": [],
   "source": [
    "from pandas.tools.plotting import scatter_matrix\n",
    "\n",
    "scatter_matrix(\n",
    "    df[[\"Gr Liv Area\", \"Bedroom AbvGr\", \"Full Bath\", \"SalePrice\"]],\n",
    "    figsize=(12, 12)\n",
    ");"
   ]
  },
  {
   "cell_type": "markdown",
   "metadata": {},
   "source": [
    "**Food for Thought:**\n",
    "\n",
    "- Why do you think histograms are plotted along the diagonal of this matrix, instead of scatterplots?\n",
    "- Why does the scatterplot of the number of bathrooms vs. number of bedrooms look different from the scatterplot of, say, sale price vs. square footage?\n",
    "- Which plots in this matrix communicate the exact same information? Can you determine how the plots correspond?"
   ]
  },
  {
   "cell_type": "markdown",
   "metadata": {},
   "source": [
    "## Summary Statistics\n",
    "\n",
    "To summarize the relationship between two quantitative variables, we can calculate the _correlation coefficient_, symbolized $r$. The correlation coefficient is a number between $-1$ and $1$, representing the strength of the linear relationship. A correlation coefficient of $r = \\pm 1$ means that the points fall perfectly along a line. The sign of the correlation coefficient indicates whether the relationship is positive or negative.\n",
    "\n",
    "The figure below shows some hypothetical scatterplots and their correlations.\n",
    "\n",
    "<img src=\"correlation.png\">\n",
    "\n",
    "Notice that a correlation of 0 doesn't mean that there's no relationship _at all_ between the variables; it only says that there's no _linear_ relationship between them."
   ]
  },
  {
   "cell_type": "markdown",
   "metadata": {},
   "source": [
    "To calculate the correlation between two variables, we can call the `.corr()` method of `pandas` `Series`. Remember that correlation requires two variables, so the `.corr()` method takes in the other variable as an argument."
   ]
  },
  {
   "cell_type": "code",
   "execution_count": null,
   "metadata": {},
   "outputs": [],
   "source": [
    "df[\"Gr Liv Area\"].corr(df[\"SalePrice\"])"
   ]
  },
  {
   "cell_type": "markdown",
   "metadata": {},
   "source": [
    "The correlation is positive, which is obvious if we look at the scatterplot. It is also reasonably close to 1, so the relationship between the two variables is close to linear."
   ]
  },
  {
   "cell_type": "markdown",
   "metadata": {},
   "source": [
    "Just as we made a scatterplot matrix, we can also make a correlation matrix that displays the correlation between all pairs of variables in our data set. To do this, we call the `.corr()` method of `DataFrame`, which will return a matrix of pairwise correlations between all of the variables in the `DataFrame`."
   ]
  },
  {
   "cell_type": "code",
   "execution_count": null,
   "metadata": {},
   "outputs": [],
   "source": [
    "df[[\"Gr Liv Area\", \"Bedroom AbvGr\", \"Full Bath\", \"SalePrice\"]].corr()"
   ]
  },
  {
   "cell_type": "markdown",
   "metadata": {},
   "source": [
    "# Exercises"
   ]
  },
  {
   "cell_type": "markdown",
   "metadata": {},
   "source": [
    "**Exercise 1.** What is the correlation between any variable and itself? Check your answer with any variable from the Ames house prices data set."
   ]
  },
  {
   "cell_type": "code",
   "execution_count": null,
   "metadata": {},
   "outputs": [],
   "source": [
    "# ENTER YOUR CODE HERE"
   ]
  },
  {
   "cell_type": "markdown",
   "metadata": {},
   "source": [
    "Exercises 2-4 deal with the Tips data set (`/data301/data/tips.csv`)."
   ]
  },
  {
   "cell_type": "markdown",
   "metadata": {},
   "source": [
    "**Exercise 2.** The Tips data set includes both quantitative and categorical variables, but correlation is only defined for quantitative variables. What happens when you call `.corr()` on the entire `DataFrame`?"
   ]
  },
  {
   "cell_type": "code",
   "execution_count": null,
   "metadata": {},
   "outputs": [],
   "source": [
    "# ENTER YOUR CODE HERE"
   ]
  },
  {
   "cell_type": "markdown",
   "metadata": {},
   "source": [
    "**Exercise 3.** Make a scatterplot showing the relationship between the tip and the total bill. Use color to indicate whether the tipper was male or female.\n",
    "\n",
    "_Bonus_: Use the size of each point to represent the size of the party."
   ]
  },
  {
   "cell_type": "code",
   "execution_count": null,
   "metadata": {},
   "outputs": [],
   "source": [
    "# ENTER YOUR CODE HERE"
   ]
  },
  {
   "cell_type": "markdown",
   "metadata": {},
   "source": [
    "**Exercise 4.** Make a scatterplot matrix showing the pairwise relationships between the total_bill, tip, and table size."
   ]
  },
  {
   "cell_type": "code",
   "execution_count": null,
   "metadata": {},
   "outputs": [],
   "source": [
    "# ENTER YOUR CODE HERE"
   ]
  },
  {
   "cell_type": "markdown",
   "metadata": {},
   "source": [
    "**Exercise 5.** To build your intuition about correlation, play this [correlation guessing game](http://guessthecorrelation.com/). There is even a two-player mode that allows you to play against a friend in the class."
   ]
  }
 ],
 "metadata": {
  "kernelspec": {
   "display_name": "Python 3",
   "language": "python",
   "name": "python3"
  },
  "language_info": {
   "codemirror_mode": {
    "name": "ipython",
    "version": 3
   },
   "file_extension": ".py",
   "mimetype": "text/x-python",
   "name": "python",
   "nbconvert_exporter": "python",
   "pygments_lexer": "ipython3",
   "version": "3.6.5"
  }
 },
 "nbformat": 4,
 "nbformat_minor": 2
}
