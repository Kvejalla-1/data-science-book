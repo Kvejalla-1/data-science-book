{
 "cells": [
  {
   "cell_type": "markdown",
   "metadata": {},
   "source": [
    "# Chapter 11.2 Types of Joins\n",
    "\n",
    "In the previous section, we discussed how to _merge_ (or _join_) two data sets by matching on certain variables. But we did not discuss what happens when no match can be found for a row in one `DataFrame`. First, let's determine what `pandas` does by default. Notice that there were 25 babies named Srishti born in 2014, but none in 2015."
   ]
  },
  {
   "cell_type": "code",
   "execution_count": null,
   "metadata": {},
   "outputs": [],
   "source": [
    "import pandas as pd\n",
    "pd.options.display.max_rows = 8\n",
    "\n",
    "names14 = pd.read_csv(\"/data301/data/names/yob2014.txt\",\n",
    "                      header=None,\n",
    "                      names=[\"Name\", \"Gender\", \"Count\"])\n",
    "names15 = pd.read_csv(\"/data301/data/names/yob2015.txt\",\n",
    "                      header=None,\n",
    "                      names=[\"Name\", \"Gender\", \"Count\"])"
   ]
  },
  {
   "cell_type": "code",
   "execution_count": null,
   "metadata": {},
   "outputs": [],
   "source": [
    "names14[names14.Name == \"Srishti\"]"
   ]
  },
  {
   "cell_type": "code",
   "execution_count": null,
   "metadata": {},
   "outputs": [],
   "source": [
    "names15[names15.Name == \"Srishti\"]"
   ]
  },
  {
   "cell_type": "markdown",
   "metadata": {},
   "source": [
    "What will happen to the name \"Srishti\" when we merge the two data sets?"
   ]
  },
  {
   "cell_type": "code",
   "execution_count": null,
   "metadata": {},
   "outputs": [],
   "source": [
    "names = names14.merge(names15, on=[\"Name\", \"Gender\"])\n",
    "names[names.Name == \"Srishti\"]"
   ]
  },
  {
   "cell_type": "markdown",
   "metadata": {},
   "source": [
    "By default, `pandas` only includes combinations that are present in _both_ `DataFrame`s. If it cannot find a match for a row in one `DataFrame`, then the combination is simply dropped."
   ]
  },
  {
   "cell_type": "markdown",
   "metadata": {},
   "source": [
    "But in this context, the fact that a name does not appear in one data set is informative. It means that no babies were born in that year with that name. (Technically, it means that fewer than 5 babies were born with that name, as any name that was assigned fewer than 5 times is omitted for privacy reasons.) We might want to include those names with a count of 0, rather than throw them out entirely. This leads us to a discussion of different types of joins.\n",
    "\n",
    "By default, `pandas` does an **inner join**. In an inner join, only combinations that are present in _both_ `DataFrame`s are included in the result. We can be explicit that we want an inner join by specifying `how=\"inner\"`, but this is not necessary, since `pandas` assumes this by default."
   ]
  },
  {
   "cell_type": "code",
   "execution_count": null,
   "metadata": {},
   "outputs": [],
   "source": [
    "names_inner = names14.merge(names15, on=[\"Name\", \"Gender\"], how=\"inner\")\n",
    "names_inner"
   ]
  },
  {
   "cell_type": "markdown",
   "metadata": {},
   "source": [
    "We might instead want an **outer join**. In an outer join, any combination that is present in _either_ `DataFrame` will be included in the result. If no match can be found for the combination in the other `DataFrame`, then the values in that other `DataFrame` will be filled with `NaN`s."
   ]
  },
  {
   "cell_type": "code",
   "execution_count": null,
   "metadata": {},
   "outputs": [],
   "source": [
    "names_outer = names14.merge(names15, on=[\"Name\", \"Gender\"], how=\"outer\")\n",
    "names_outer"
   ]
  },
  {
   "cell_type": "markdown",
   "metadata": {},
   "source": [
    "Notice names like \"Zykir\" and \"Zyus\" that appeared only in 2015. For this reason, their count in 2014 is `NaN`. We might want to fill these values with zeroes."
   ]
  },
  {
   "cell_type": "code",
   "execution_count": null,
   "metadata": {},
   "outputs": [],
   "source": [
    "names_outer = names_outer.fillna(0)\n",
    "names_outer"
   ]
  },
  {
   "cell_type": "markdown",
   "metadata": {},
   "source": [
    "Finally, we might want to keep all the rows from one `DataFrame` but not the other. For example, if we are trying to calculate the percentage change for each name from 2014 to 2015, then we do not want to include names that only appeared in 2015. But we do want to include all names that appeared in 2014, regardless of whether or not they appeared in 2015. Since the 2014 data is the `DataFrame` on the left, we can do a **left join** to include all rows from the left `DataFrame`."
   ]
  },
  {
   "cell_type": "code",
   "execution_count": null,
   "metadata": {},
   "outputs": [],
   "source": [
    "names_left = names14.merge(names15, on=[\"Name\", \"Gender\"], how=\"left\")\n",
    "names_left"
   ]
  },
  {
   "cell_type": "markdown",
   "metadata": {},
   "source": [
    "Similarly, there is also a **right join** if you want to include all of the rows from the right `DataFrame`."
   ]
  },
  {
   "cell_type": "code",
   "execution_count": null,
   "metadata": {},
   "outputs": [],
   "source": [
    "names_right = names14.merge(names15, on=[\"Name\", \"Gender\"], how=\"right\")\n",
    "names_right"
   ]
  },
  {
   "cell_type": "markdown",
   "metadata": {},
   "source": [
    "The four types of joins can be visualized as follows:\n",
    "\n",
    "![](joins.jpeg)"
   ]
  },
  {
   "cell_type": "markdown",
   "metadata": {},
   "source": [
    "# Exercises\n",
    "\n",
    "Exercises 1-2 deal with the Movielens data (`/data301/data/ml-1m/`) that you explored in the previous section."
   ]
  },
  {
   "cell_type": "markdown",
   "metadata": {},
   "source": [
    "**Exercise 1.** Calculate the number of ratings by movie. How many of the movies had zero ratings?\n",
    "\n",
    "(_Hint_: Why is an inner join not sufficient here?)"
   ]
  },
  {
   "cell_type": "code",
   "execution_count": null,
   "metadata": {},
   "outputs": [],
   "source": [
    "# TYPE YOUR CODE HERE."
   ]
  },
  {
   "cell_type": "markdown",
   "metadata": {},
   "source": [
    "**Exercise 2.** How many movies received both a 1 and a 5 rating? Do this by creating and joining two appropriate tables."
   ]
  },
  {
   "cell_type": "code",
   "execution_count": null,
   "metadata": {},
   "outputs": [],
   "source": [
    "# TYPE YOUR CODE HERE."
   ]
  }
 ],
 "metadata": {
  "kernelspec": {
   "display_name": "Python 3",
   "language": "python",
   "name": "python3"
  },
  "language_info": {
   "codemirror_mode": {
    "name": "ipython",
    "version": 3
   },
   "file_extension": ".py",
   "mimetype": "text/x-python",
   "name": "python",
   "nbconvert_exporter": "python",
   "pygments_lexer": "ipython3",
   "version": "3.6.3"
  }
 },
 "nbformat": 4,
 "nbformat_minor": 2
}
